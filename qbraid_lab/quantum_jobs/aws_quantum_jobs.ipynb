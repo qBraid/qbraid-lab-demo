{
 "cells": [
  {
   "cell_type": "markdown",
   "id": "d46c2073-d5af-4272-b434-f6fc712b1f33",
   "metadata": {},
   "source": [
    "# qBraid Quantum Jobs: AWS Devices + Amazon Braket"
   ]
  },
  {
   "cell_type": "code",
   "execution_count": 1,
   "id": "de7f060e",
   "metadata": {},
   "outputs": [
    {
     "name": "stdout",
     "output_type": "stream",
     "text": [
      "Note: you may need to restart the kernel to use updated packages.\n"
     ]
    }
   ],
   "source": [
    "%pip install -q amazon-braket-sdk"
   ]
  },
  {
   "cell_type": "code",
   "execution_count": 2,
   "id": "e668cc2b-2107-4f2a-bc65-1aa6da9b72cf",
   "metadata": {},
   "outputs": [],
   "source": [
    "# !qbraid configure magic"
   ]
  },
  {
   "cell_type": "code",
   "execution_count": 3,
   "id": "829a72b8",
   "metadata": {},
   "outputs": [],
   "source": [
    "%load_ext qbraid_magic"
   ]
  },
  {
   "cell_type": "code",
   "execution_count": 4,
   "id": "c962fcc4-6e09-43b9-af3f-13b8bd36bc3e",
   "metadata": {},
   "outputs": [
    {
     "name": "stdout",
     "output_type": "stream",
     "text": [
      "qbraid-cli/0.9.0a0\n"
     ]
    }
   ],
   "source": [
    "%qbraid --version"
   ]
  },
  {
   "cell_type": "code",
   "execution_count": 5,
   "id": "1635d207-9650-4bb5-9f72-9a386021858c",
   "metadata": {},
   "outputs": [
    {
     "name": "stdout",
     "output_type": "stream",
     "text": [
      "\n",
      "qBraid quantum jobs already \u001b[1;32menabled\u001b[0m for \u001b[35mbraket\u001b[0m.\n",
      "\n",
      "Check the state of all quantum jobs libraries in this environment with: \n",
      "\n",
      "        $ qbraid jobs state\n",
      "\n"
     ]
    }
   ],
   "source": [
    "%qbraid jobs enable braket -y"
   ]
  },
  {
   "cell_type": "code",
   "execution_count": 6,
   "id": "c2faa670-1fe9-47f2-9cfe-d488517914a3",
   "metadata": {},
   "outputs": [
    {
     "name": "stdout",
     "output_type": "stream",
     "text": [
      "Executable: \u001b[35m/opt/.qbraid/environments/qbraid_000000/pyenv/bin/\u001b[0m\u001b[95mpython\u001b[0m\n",
      "\n",
      "\u001b[1mLibrary        State\u001b[0m\n",
      "braket         \u001b[32menabled\u001b[0m\n",
      "\n"
     ]
    }
   ],
   "source": [
    "%qbraid jobs state"
   ]
  },
  {
   "cell_type": "code",
   "execution_count": 7,
   "id": "f17a39b3-74b6-4798-9d8c-164d884e1251",
   "metadata": {},
   "outputs": [
    {
     "name": "stdout",
     "output_type": "stream",
     "text": [
      "\n",
      "qBraid credits remaining: 1912.9763\n",
      "\n",
      "For more information, visit: \u001b[4;94mhttps://docs.qbraid.com/home/pricing#credits\u001b[0m\n"
     ]
    }
   ],
   "source": [
    "%qbraid account credits"
   ]
  },
  {
   "cell_type": "code",
   "execution_count": 8,
   "id": "e7fb9ec2-0500-4fd7-b9a5-952805764efc",
   "metadata": {},
   "outputs": [
    {
     "name": "stdout",
     "output_type": "stream",
     "text": [
      "T  : │  0  │  1  │\n",
      "      ┌───┐       \n",
      "q0 : ─┤ H ├───●───\n",
      "      └───┘   │   \n",
      "            ┌─┴─┐ \n",
      "q1 : ───────┤ X ├─\n",
      "            └───┘ \n",
      "T  : │  0  │  1  │\n"
     ]
    }
   ],
   "source": [
    "import boto3\n",
    "from braket.aws import AwsDevice\n",
    "from braket.circuits import Circuit\n",
    "\n",
    "# create the Amazon Braket circuit\n",
    "bell = Circuit().h(0).cnot(0, 1)\n",
    "\n",
    "print(bell)"
   ]
  },
  {
   "cell_type": "code",
   "execution_count": 9,
   "id": "9319ff25-f872-4cf4-8943-8453aaaa3ada",
   "metadata": {},
   "outputs": [],
   "source": [
    "# choose the cloud-based on-demand simulator to run your circuit\n",
    "device = AwsDevice(\"arn:aws:braket:::device/quantum-simulator/amazon/sv1\")\n",
    "\n",
    "## UNCOMMENT THE FOLLOWING LINE TO ACCESS ARIA:\n",
    "# device = AwsDevice(\"arn:aws:braket:us-east-1::device/qpu/ionq/Aria-1\")"
   ]
  },
  {
   "cell_type": "code",
   "execution_count": 10,
   "id": "d839f8db-0928-464f-9b26-06d89741bd05",
   "metadata": {},
   "outputs": [],
   "source": [
    "# execute the circuit\n",
    "task = device.run(bell, shots=100)"
   ]
  },
  {
   "cell_type": "code",
   "execution_count": 11,
   "id": "602ae9e2-675f-4a7d-8ad2-8dded3c19ca4",
   "metadata": {},
   "outputs": [
    {
     "name": "stdout",
     "output_type": "stream",
     "text": [
      "Counter({'00': 56, '11': 44})\n"
     ]
    }
   ],
   "source": [
    "# display the results\n",
    "print(task.result().measurement_counts)"
   ]
  },
  {
   "cell_type": "code",
   "execution_count": 12,
   "id": "fb323eeb-2f53-4fa1-b8e4-d915caf57981",
   "metadata": {},
   "outputs": [],
   "source": [
    "# %qbraid jobs list"
   ]
  },
  {
   "cell_type": "code",
   "execution_count": 13,
   "id": "2b0a87d2-865b-4d52-a01b-ccc1cf01c707",
   "metadata": {},
   "outputs": [
    {
     "name": "stdout",
     "output_type": "stream",
     "text": [
      "\n",
      "qBraid credits remaining: 1909.2263\n",
      "\n",
      "For more information, visit: \u001b[4;94mhttps://docs.qbraid.com/home/pricing#credits\u001b[0m\n"
     ]
    }
   ],
   "source": [
    "# check remaining qBraid credits\n",
    "%qbraid account credits"
   ]
  }
 ],
 "metadata": {
  "kernelspec": {
   "display_name": "Python 3 [Default]",
   "language": "python",
   "name": "python3"
  },
  "language_info": {
   "codemirror_mode": {
    "name": "ipython",
    "version": 3
   },
   "file_extension": ".py",
   "mimetype": "text/x-python",
   "name": "python",
   "nbconvert_exporter": "python",
   "pygments_lexer": "ipython3",
   "version": "3.11.9"
  }
 },
 "nbformat": 4,
 "nbformat_minor": 5
}
