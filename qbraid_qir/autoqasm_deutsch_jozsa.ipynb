{
 "cells": [
  {
   "cell_type": "markdown",
   "metadata": {},
   "source": [
    "# Deutsch-Jozsa Algorithm with Imperative Computation (AutoQASM)\n",
    "\n",
    "This notebook will introduce the Deutsch-Joszsa problem and solution. We then implement the quantum solution with AutoQASM, demonstrating it's success by submitting quantum jobs to qBraid's QIR simulator."
   ]
  },
  {
   "cell_type": "markdown",
   "metadata": {},
   "source": [
    "## Introduction\n",
    "\n",
    "### The Problem\n",
    "We are given a hidden decision function $f: \\mathbb \\{0, 1\\}^n \\to \\{0, 1\\}$. For this problem, we assume any such $f$ is either \"balanced\" or \"constant\". \n",
    "- Balanced: $f$ returns $0$'s on exactly $2^{n-1}$ of the possible inputs, and $1$'s on the other $2^{n-1}$.\n",
    "- Constant: $f(x) = 0$ or $f(x) = 1$ for all $x \\in \\{0, 1\\}^n$. \n",
    "\n",
    "The deutsch-Jozsa problem is to determine, given a function $f$, to determine whether it is in fact balanced or constant."
   ]
  },
  {
   "cell_type": "markdown",
   "metadata": {},
   "source": [
    "### The Classical Deterministic Solution\n",
    "\n",
    "By doing a worst-case analysis on the problem, it is easy to see that we would require $2^{n-1} + 1$ calls to $f$ to solve this problem. There are probabilistic classical alternatives that use less calls."
   ]
  },
  {
   "cell_type": "markdown",
   "metadata": {},
   "source": [
    "### The Classical Probabilistic Solution\n",
    "\n",
    "Given that a function is balanced where the inputs are uniformly chosen to have output $0$ or $1$, there is a $\\dfrac{1}{2^{n-1}}$ probability that we actually have to query $f$ $2^{n-1}+1$ times. This hints at a probabilistic solution to the problem.\n",
    "\n",
    "The solution is the choose $k$ random inputs, from which we can derive $$P_{\\text{constant}}(k) = 1- \\frac{1}{2^{k-1}}.$$\n",
    "\n",
    "Basically, we can run the classical deterministic solution and just break whenever we have, say, $p$ probability of confidence."
   ]
  },
  {
   "cell_type": "markdown",
   "metadata": {},
   "source": [
    "### The Quantum Solution\n",
    "\n",
    "A quantum computer can solve the Deutsch-Jozsa problem with 100% confidence with only ***one*** call to $f$. The actual circuit has $n+1$ qubits ($n \\ket{0}$ 's and $1 \\ket{1}$) and is split into four main parts:\n",
    "1. Preparing the quantum registers: The first $n$-qubit register are set to $\\ket{0}^{\\otimes n}$ and the second as $\\ket 1$: $$\\ket {\\psi_0} = \\ket 0 ^{\\otimes n} \\ket 1.$$\n",
    "2. Applying a Hadamard gate to all qubits: $$\\ket{\\psi_{1}} = \\frac{1}{\\sqrt{2^{n+1}}} \\sum_{x=0}^{2^n-1} \\ket x (\\ket 0 - \\ket 1).$$\n",
    "3. Appling the quantum oracle $U_f: \\ket x \\ket y \\mapsto \\ket x \\ket{y \\oplus f(x)}$: $$\\ket{\\psi_2} = \\frac{1}{\\sqrt{2^n+1}} \\sum_{x=0}^{2^n-1} (-1)^{f(x)}\\ket x (\\ket 0 - \\ket 1)$$\n",
    "4. Applying a Hadamard gate to the first $n$ qubits: $$\\ket{\\psi_3} = \\frac{1}{2^n} \\sum_{y=0}^{2^n-1} \\left[\\sum_{x=0}^{2^n-1} (-1)^{f(x)} (-1)^{x\\cdot y}\\right] \\ket y $$\n",
    "\n",
    "Now, we just measure the first register. We see that: $$P(\\ket{0}^{\\otimes n}) = \\left| \\frac{1}{2^n} \\sum_{x=0}^{2^n - 1} (-1)^{f(x)} \\right|^2,$$\n",
    "which is 1 *if and only if* $f$ is constant. This suffices to show correctness of our solution."
   ]
  },
  {
   "cell_type": "markdown",
   "metadata": {},
   "source": [
    "#### The Oracle\n",
    "**Constant Oracle**\n",
    "\n",
    "When a oracle is constant, it has no effect on the input qubits. So step 4 reverses step 2, giving us the same vector we had after step 1. \n",
    "\n",
    "**Balanced Oracle**\n",
    "\n",
    "Step 2 gives us an $x$ that is an equal superposition of all states in the $n$-qubit basis. A balanced oracle has a phase kickback that gives negative phase to exactly half of the states. The state after applying the oracle is orthogonal to the prior state, meaning applying $n$ Hadamard gates yields a state orthogonal to $\\ket{00\\ldots 0}$. "
   ]
  },
  {
   "cell_type": "markdown",
   "metadata": {},
   "source": [
    "## AutoQASM Implementation\n",
    "\n",
    "We start by importing the relevant libraries."
   ]
  },
  {
   "cell_type": "code",
   "execution_count": null,
   "metadata": {},
   "outputs": [],
   "source": [
    "%pip install qbraid \\\n",
    "             qbraid-qir \\\n",
    "             autoqasm \\\n",
    "             matplotlib --quiet"
   ]
  },
  {
   "cell_type": "code",
   "execution_count": 1,
   "metadata": {},
   "outputs": [],
   "source": [
    "import autoqasm as aq\n",
    "import autoqasm.instructions as ins\n",
    "\n",
    "from qbraid.runtime import QbraidProvider\n",
    "from qbraid.visualization import plot_histogram"
   ]
  },
  {
   "cell_type": "markdown",
   "metadata": {},
   "source": [
    "### Constant Example\n",
    "\n",
    "For this example, we're gonna use a four qubit example. We start by identifying that the oracle is going to just be the identity, as a valid $U_f: \\ket x \\ket y \\mapsto \\ket x \\ket{y \\oplus 0} = \\ket x \\ket y$ is the identity mapping."
   ]
  },
  {
   "cell_type": "code",
   "execution_count": 3,
   "metadata": {},
   "outputs": [],
   "source": [
    "n = 4"
   ]
  },
  {
   "cell_type": "code",
   "execution_count": null,
   "metadata": {},
   "outputs": [],
   "source": [
    "def constant_f(x):\n",
    "    return 0\n",
    "\n",
    "\n",
    "@aq.gate\n",
    "def constant_oracle(q1: aq.Qubit, q2: aq.Qubit, q3: aq.Qubit, q4: aq.Qubit, q5: aq.Qubit):\n",
    "    pass\n",
    "\n",
    "\n",
    "@aq.main(num_qubits=n + 1)\n",
    "def deutsch_jozsa_constant():\n",
    "    ins.x(4)\n",
    "    for i in range(n + 1):\n",
    "        ins.h(i)\n",
    "\n",
    "    constant_oracle(*range(n + 1))\n",
    "\n",
    "    for i in range(n + 1):\n",
    "        ins.h(i)\n",
    "\n",
    "    for i in range(n):\n",
    "        ins.measure(i)"
   ]
  },
  {
   "cell_type": "markdown",
   "metadata": {},
   "source": [
    "## qBraid Instructions\n",
    "\n",
    "qBraid providers a QIR Simulator for quantum jobs. To demonstrate its usage, we'll be using it to simulate the Deutsch-Jozsa algorithm."
   ]
  },
  {
   "cell_type": "code",
   "execution_count": 5,
   "metadata": {},
   "outputs": [],
   "source": [
    "provider = QbraidProvider()\n",
    "\n",
    "device = provider.get_device(\"qbraid_qir_simulator\")"
   ]
  },
  {
   "cell_type": "code",
   "execution_count": 10,
   "metadata": {},
   "outputs": [],
   "source": [
    "deutsch_jozsa_constant_algorithm = deutsch_jozsa_constant.build()\n",
    "\n",
    "job = device.run(deutsch_jozsa_constant_algorithm, shots=1000)"
   ]
  },
  {
   "cell_type": "code",
   "execution_count": null,
   "metadata": {},
   "outputs": [
    {
     "name": "stderr",
     "output_type": "stream",
     "text": [
      "/var/folders/fn/02v7ndl50gz71pncbc7t7ww40000gn/T/ipykernel_15475/2728412027.py:3: DeprecationWarning: Call to deprecated function measurement_counts. Use 'Result.data.get_counts()' instead.\n",
      "  counts = result.measurement_counts()\n"
     ]
    },
    {
     "data": {
      "image/png": "[encoded data removed]",
      "text/plain": [
       "<Figure size 640x480 with 1 Axes>"
      ]
     },
     "metadata": {},
     "output_type": "display_data"
    }
   ],
   "source": [
    "result = job.result()\n",
    "\n",
    "counts = result.data.get_counts()\n",
    "\n",
    "plot_histogram(counts)"
   ]
  },
  {
   "cell_type": "markdown",
   "metadata": {},
   "source": [
    "As we can see, the algorithm returns $\\ket{00000}$ 100% of the time, implying that our $f$ is constant. "
   ]
  },
  {
   "cell_type": "markdown",
   "metadata": {},
   "source": [
    "Now we consider a balanced $f$. The f we will use is given by $$f(x) = \\begin{cases} 0 & x \\in [0, 7] \\\\ 1 & x \\in [8, 15]\\end{cases}.$$\n",
    "\n",
    "To construct $U_f$ that suffices $\\ket x \\ket y \\mapsto \\ket x \\ket{y \\oplus f(x)}$, we consider when $f(x) = 1$, which is exactly when the most significant bit (MSB) is also equal to 1. As such, our oracle just uses a controlled-NOT gate where the control qubit is the MSB of $x$ adn the target bit is $y$. "
   ]
  },
  {
   "cell_type": "code",
   "execution_count": 13,
   "metadata": {},
   "outputs": [],
   "source": [
    "def balanced_f(x):\n",
    "    if x in range(0, 2**n / 2):\n",
    "        return 0\n",
    "    return 1\n",
    "\n",
    "\n",
    "@aq.gate\n",
    "def balanced_oracle(q0: aq.Qubit, q1: aq.Qubit, q2: aq.Qubit, q3: aq.Qubit, q4: aq.Qubit):\n",
    "    ins.cnot(q3, q4)\n",
    "\n",
    "\n",
    "@aq.main(num_qubits=n + 1)\n",
    "def deutsch_jozsa_balanced():\n",
    "    ins.x(4)\n",
    "    for i in range(n + 1):\n",
    "        ins.h(i)\n",
    "\n",
    "    balanced_oracle(*range(n + 1))\n",
    "\n",
    "    for i in range(n + 1):\n",
    "        ins.h(i)\n",
    "\n",
    "    for i in range(n):\n",
    "        ins.measure(i)"
   ]
  },
  {
   "cell_type": "code",
   "execution_count": 14,
   "metadata": {},
   "outputs": [],
   "source": [
    "deutsch_jozsa_balanced_algorithm = deutsch_jozsa_balanced.build()\n",
    "\n",
    "job_bal = device.run(deutsch_jozsa_balanced_algorithm, shots=1000)"
   ]
  },
  {
   "cell_type": "code",
   "execution_count": null,
   "metadata": {},
   "outputs": [
    {
     "name": "stderr",
     "output_type": "stream",
     "text": [
      "/var/folders/fn/02v7ndl50gz71pncbc7t7ww40000gn/T/ipykernel_15475/3069150847.py:3: DeprecationWarning: Call to deprecated function measurement_counts. Use 'Result.data.get_counts()' instead.\n",
      "  counts_bal = result_bal.measurement_counts()\n"
     ]
    },
    {
     "data": {
      "image/png": "[encoded data removed]",
      "text/plain": [
       "<Figure size 640x480 with 1 Axes>"
      ]
     },
     "metadata": {},
     "output_type": "display_data"
    }
   ],
   "source": [
    "result_bal = job_bal.result()\n",
    "\n",
    "counts_bal = result_bal.data.get_counts()\n",
    "\n",
    "plot_histogram(counts_bal)"
   ]
  },
  {
   "cell_type": "markdown",
   "metadata": {},
   "source": [
    "We see here that the probability of measuring $\\ket{00000}$ is 0. This correctly predicts that our $f$ is balanced."
   ]
  }
 ],
 "metadata": {
  "kernelspec": {
   "display_name": "istg-bruh",
   "language": "python",
   "name": "python3"
  },
  "language_info": {
   "codemirror_mode": {
    "name": "ipython",
    "version": 3
   },
   "file_extension": ".py",
   "mimetype": "text/x-python",
   "name": "python",
   "nbconvert_exporter": "python",
   "pygments_lexer": "ipython3",
   "version": "3.10.14"
  }
 },
 "nbformat": 4,
 "nbformat_minor": 2
}
