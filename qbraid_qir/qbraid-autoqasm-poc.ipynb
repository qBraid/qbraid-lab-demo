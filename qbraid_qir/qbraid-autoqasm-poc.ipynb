{
 "cells": [
  {
   "cell_type": "markdown",
   "id": "f2f3000f-4271-421a-8ed5-d0fbd7af8629",
   "metadata": {
    "tags": []
   },
   "source": [
    "# AutoQASM x qBraid-QIR integration POC\n",
    "\n",
    "\n",
    "## Overview\n",
    "\n",
    "This proof of concept demonstrates one potential approach to the integration between the AutoQASM and qBraid open-source projects, aiming to facilitate seamless conversion from AutoQASM to Quantum Intermediate Representation (QIR). This integration would enhance the interoperability of all involved quantum software frameworks and enable submission of quantum jobs to QIR-compatible devices using AutoQASM.\n",
    "\n",
    "## Resources\n",
    "\n",
    "\n",
    "[OpenQASM](https://openqasm.com/): Quantum assembly language that enables complex quantum programming by supporting classical logic, timing controls, and procedural programming within quantum circuits.\n",
    "\n",
    "[QIR](https://www.qir-alliance.org/): Quantum intermediate representation based on LLVM, designed to facilitate optimization and cross-platform compatibility between different quantum processors and development tools.\n",
    "\n",
    "[AutoQASM](https://github.com/amazon-braket/autoqasm): Experimental Python-embedded module designed to enable a Pythonic, imperative programming experience for constructing OpenQASM programs.\n",
    "\n",
    "[qBraid-SDK](https://github.com/qBraid/qBraid): Platform-agnostic quantum runtime framework designed to streamline the full lifecycle management of quantum jobs—from defining program specifications, to job submission, and through to processing of results.\n",
    "\n",
    "[qBraid-QIR](): qBraid-SDK extension providing support for QIR conversions, including OpenQASM 3 $\\rightarrow$ QIR. \n",
    "\n",
    "\n",
    "## Goals\n",
    "\n",
    "**Enhance Interoperability**: Ensure that AutoQASM seamlessly interacts with other quantum computing platforms to broaden its application scope.\n",
    "\n",
    "**Submit Quantum Jobs**: Facilitate the submission of quantum jobs written in AutoQASM to the remote qBraid QIR simulator (June 2024), leveraging the strengths of both systems to provide a great end-user experience."
   ]
  },
  {
   "cell_type": "markdown",
   "id": "b99d4134-30ae-476b-b1c5-b2f8a1d5bdee",
   "metadata": {},
   "source": [
    "Run this notebook on [lab.qbraid.com](https://lab.qbraid.com) with environment access code:`592ca9a2-0881-41c4-bbf1-4b27d604afb1`"
   ]
  },
  {
   "cell_type": "code",
   "execution_count": 1,
   "id": "6d5737d1-b6a7-47ec-bae0-c0499ccdbdf1",
   "metadata": {
    "tags": []
   },
   "outputs": [],
   "source": [
    "import warnings\n",
    "\n",
    "warnings.filterwarnings(\n",
    "    \"ignore\",\n",
    "    message=\"networkx backend defined more than once: nx-loopback\",\n",
    "    category=RuntimeWarning,\n",
    ")"
   ]
  },
  {
   "cell_type": "code",
   "execution_count": 2,
   "id": "bc44ec7c-3a25-4f0e-b7bd-2eb633743ed4",
   "metadata": {
    "tags": []
   },
   "outputs": [],
   "source": [
    "import re\n",
    "\n",
    "import autoqasm as aq\n",
    "from autoqasm.instructions import cnot, h, measure\n",
    "\n",
    "import qbraid\n",
    "from qbraid.passes.qasm3.compat import add_stdgates_include, insert_gate_def\n",
    "from qbraid.programs import QPROGRAM_REGISTRY, register_program_type\n",
    "from qbraid.runtime.native import QbraidProvider\n",
    "from qbraid.transpiler import Conversion, ConversionGraph, transpile\n",
    "from qbraid.visualization.plot_counts import plot_histogram"
   ]
  },
  {
   "cell_type": "code",
   "execution_count": 3,
   "id": "9af4d088-bae1-41db-9cb6-1d26aa447eb6",
   "metadata": {
    "tags": []
   },
   "outputs": [
    {
     "name": "stdout",
     "output_type": "stream",
     "text": [
      "\n",
      "qBraid-SDK: A platform-agnostic quantum runtime framework\n",
      "======================================================================\n",
      "(C) 2024 qBraid Development Team (https://github.com/qBraid/qBraid)\n",
      "\n",
      "qbraid:\t0.7.0.dev\n",
      "\n",
      "Core Dependencies\n",
      "-----------------\n",
      "networkx: 3.2.1\n",
      "openqasm3: 0.5.0\n",
      "numpy: 1.26.4\n",
      "ply: 3.11\n",
      "\n",
      "Optional Dependencies\n",
      "---------------------\n",
      "qbraid_core: 0.1.6\n",
      "qbraid_qir: 0.2.0\n",
      "braket: 1.79.1.dev0\n",
      "\n",
      "Python: 3.9.18\n",
      "Platform: Linux (x86_64)\n"
     ]
    }
   ],
   "source": [
    "qbraid.about()"
   ]
  },
  {
   "cell_type": "markdown",
   "id": "e86eec25-d4f2-415e-a6b3-39285acff1bb",
   "metadata": {},
   "source": [
    "### OpenQASM 3 IR compatibility\n",
    "\n",
    "The following function is where most of the collaboration will need to take place. In this function, we need to convert the OpenQASM 3 programs generated from AutoQASM into a format compatible with the qBraid-QIR qasm3 converter.\n",
    "\n",
    "\n",
    "There are some OpenQASM 3 operations, such as pulse-level operations, that are not supported by QIR which we can omit for the time being. A good first step would be to ensure coverage for the entire OpenQASM 3 standard gate set. Within this gate set, there are a number of discrepancies between the AutoQASM output IR format and the supported qBraid-QIR OpenQASM 3 program input for gates like the S, T, square root of X, and phase gates, as well as in the ways measurement and qubit state initialization are handled.\n",
    "\n",
    "\n",
    "Below is a basic, proof-of-concept implementation that shows what this type of bridge might look like, designed solely for internal demonstration purposes. Again, this cross-compatibility function will be central to the success of the integration."
   ]
  },
  {
   "cell_type": "code",
   "execution_count": 4,
   "id": "3e8e6da9-6128-4195-9ef5-2d8247d3b5c9",
   "metadata": {
    "tags": []
   },
   "outputs": [],
   "source": [
    "def _process_qasm(qasm: str) -> str:\n",
    "    \"\"\"\n",
    "    Convert OpenQASM 3 string to a format that\n",
    "    will be accepted by the qbraid-qir converter.\n",
    "\n",
    "    Args:\n",
    "        qasm (str): The input QASM string to process.\n",
    "\n",
    "    Returns:\n",
    "        The processed QASM string.\n",
    "\n",
    "    \"\"\"\n",
    "    # Regular expression to remove initialization to zeros\n",
    "    pattern = r'(bit\\[\\d+\\] +__bit_\\d+__)\\s+=\\s+\"[0]+\"(;)'\n",
    "\n",
    "    # Transform each line, removing zero initializations\n",
    "    transformed_lines = [re.sub(pattern, r\"\\1\\2\", line) for line in qasm.split(\"\\n\")]\n",
    "\n",
    "    # Rejoin the transformed lines back into a single string\n",
    "    qasm = \"\\n\".join(transformed_lines)\n",
    "\n",
    "    # Replace specific keywords with comments in a single step to avoid multiple replacements\n",
    "    qasm = re.sub(r\"^(output|return_value =)\", r\"// \\1\", qasm, flags=re.MULTILINE)\n",
    "\n",
    "    # Insert and replace various gate definitions for compatibility\n",
    "    qasm = add_stdgates_include(qasm)\n",
    "    qasm = insert_gate_def(qasm, \"iswap\")\n",
    "    qasm = insert_gate_def(qasm, \"sxdg\")\n",
    "\n",
    "    return qasm\n",
    "\n",
    "\n",
    "def autoqasm_to_qasm3(program: aq.program.MainProgram) -> str:\n",
    "    \"\"\"\n",
    "    Convert AutoQASM program to OpenQASM 3 string in a format that\n",
    "    will be accepted by the qbraid-qir converter.\n",
    "\n",
    "    \"\"\"\n",
    "    qasm = program.build().to_ir()\n",
    "\n",
    "    return _process_qasm(qasm)"
   ]
  },
  {
   "cell_type": "markdown",
   "id": "223e0b33-79c0-44be-8363-2ec08432a86d",
   "metadata": {},
   "source": [
    "### Registering AutoQASM program type with qBraid conversion graph"
   ]
  },
  {
   "cell_type": "markdown",
   "id": "2bd65768-cb0f-492e-acfe-b1fbb378ae40",
   "metadata": {},
   "source": [
    "The qBraid-SDK does not assume a fixed input or output/target software framework. Instead, it allows providers to dynamically register any desired run input program type as the target, depending on their specific needs."
   ]
  },
  {
   "cell_type": "code",
   "execution_count": 5,
   "id": "76fd47aa-bbb1-477c-8226-7915c222348c",
   "metadata": {
    "tags": []
   },
   "outputs": [],
   "source": [
    "register_program_type(aq.program.MainProgram)"
   ]
  },
  {
   "cell_type": "code",
   "execution_count": 6,
   "id": "0bfecc00-c00d-406f-94e1-b77558e2772a",
   "metadata": {
    "tags": []
   },
   "outputs": [
    {
     "data": {
      "text/plain": [
       "{'braket': braket.circuits.circuit.Circuit,\n",
       " 'openqasm3': openqasm3.ast.Program,\n",
       " 'pyqir': Module,\n",
       " 'qasm2': str,\n",
       " 'qasm3': str,\n",
       " 'autoqasm': autoqasm.program.program.MainProgram}"
      ]
     },
     "execution_count": 6,
     "metadata": {},
     "output_type": "execute_result"
    }
   ],
   "source": [
    "QPROGRAM_REGISTRY"
   ]
  },
  {
   "cell_type": "markdown",
   "id": "168396ea-fa61-48c7-8835-ebdd6ea70af7",
   "metadata": {},
   "source": [
    "Registered program types are then interconnected via a graph-based transpiler, where each program type is represented as a node and supported conversions as edges. The breadth, depth, and connectivity can be customized by the provider."
   ]
  },
  {
   "cell_type": "code",
   "execution_count": 7,
   "id": "08eca693-942d-4c49-95a7-a940443a3710",
   "metadata": {
    "tags": []
   },
   "outputs": [
    {
     "data": {
      "image/png": "[encoded data removed]",
      "text/plain": [
       "<Figure size 640x480 with 1 Axes>"
      ]
     },
     "metadata": {},
     "output_type": "display_data"
    }
   ],
   "source": [
    "graph = ConversionGraph()\n",
    "\n",
    "aq_conversion = Conversion(\"autoqasm\", \"qasm3\", autoqasm_to_qasm3)\n",
    "\n",
    "graph.add_conversion(aq_conversion)\n",
    "\n",
    "graph.plot(legend=True)"
   ]
  },
  {
   "cell_type": "markdown",
   "id": "1f74a345-d794-4f12-bc80-80b47f94d2d2",
   "metadata": {},
   "source": [
    "### Submitting AutoQASM program to qBraid QIR simulator"
   ]
  },
  {
   "cell_type": "code",
   "execution_count": 8,
   "id": "b1462227-284e-4ad2-818a-3e32c706b45d",
   "metadata": {
    "tags": []
   },
   "outputs": [],
   "source": [
    "provider = QbraidProvider()\n",
    "\n",
    "device = provider.get_device(\"qbraid_qir_simulator\")\n",
    "\n",
    "device.update_scheme(conversion_graph=graph)"
   ]
  },
  {
   "cell_type": "code",
   "execution_count": 9,
   "id": "10c9649e-a8d4-497c-a6e7-6a355a6e5b25",
   "metadata": {
    "tags": []
   },
   "outputs": [],
   "source": [
    "@aq.main\n",
    "def bell_state():\n",
    "    h(0)\n",
    "    cnot(0, 1)\n",
    "    return measure([0, 1])"
   ]
  },
  {
   "cell_type": "code",
   "execution_count": null,
   "id": "62fa4dff-fc4f-4380-92a1-ba8f27dcc7f7",
   "metadata": {
    "tags": []
   },
   "outputs": [
    {
     "data": {
      "text/plain": [
       "<JobStatus.COMPLETED: 'job has successfully run'>"
      ]
     },
     "execution_count": 10,
     "metadata": {},
     "output_type": "execute_result"
    }
   ],
   "source": [
    "bell_state_algorithm = bell_state.build()\n",
    "\n",
    "job = device.run(bell_state_algorithm, shots=100)\n",
    "\n",
    "job.status()"
   ]
  },
  {
   "cell_type": "code",
   "execution_count": null,
   "id": "0df2f88e-b4bf-4885-9538-ddf5e70cf808",
   "metadata": {
    "tags": []
   },
   "outputs": [
    {
     "data": {
      "image/png": "[encoded data removed]",
      "text/plain": [
       "<Figure size 640x480 with 1 Axes>"
      ]
     },
     "metadata": {},
     "output_type": "display_data"
    }
   ],
   "source": [
    "result = job.result()\n",
    "\n",
    "counts = result.data.get_counts()\n",
    "\n",
    "plot_histogram(counts)"
   ]
  },
  {
   "cell_type": "markdown",
   "id": "7edaff03-26c3-4370-9f91-8b028b625732",
   "metadata": {},
   "source": [
    "<div class=\"alert alert-block alert-info\">\n",
    "<b>Copyright Notice:</b> \n",
    "    All rights reserved © [2024] qBraid. This notebook is part of the qBraid-SDK.\n",
    "The qBraid-SDK is free software released under the GNU General Public License v3\n",
    "or later. You can redistribute and/or modify it under the terms of the GPL v3.\n",
    "See the LICENSE file in the project root or <https://www.gnu.org/licenses/gpl-3.0.html>. THERE IS NO WARRANTY for the qBraid-SDK, as per Section 15 of the GPL v3.\n",
    "</div>"
   ]
  },
  {
   "cell_type": "code",
   "execution_count": null,
   "id": "0a44c223-fef0-4f58-8451-cf075a154cd7",
   "metadata": {},
   "outputs": [],
   "source": []
  }
 ],
 "metadata": {
  "kernelspec": {
   "display_name": "Python 3 [AutoQASM]",
   "language": "python",
   "name": "python3_autoqa_8a87m9"
  },
  "language_info": {
   "codemirror_mode": {
    "name": "ipython",
    "version": 3
   },
   "file_extension": ".py",
   "mimetype": "text/x-python",
   "name": "python",
   "nbconvert_exporter": "python",
   "pygments_lexer": "ipython3",
   "version": "3.9.18"
  }
 },
 "nbformat": 4,
 "nbformat_minor": 5
}
