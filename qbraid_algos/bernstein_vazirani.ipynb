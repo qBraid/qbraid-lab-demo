{
 "cells": [
  {
   "cell_type": "markdown",
   "id": "d3b8876c",
   "metadata": {},
   "source": [
    "## Bernstein Vazirani Algorithm\n",
    "#### In this tutorial, we will demonstrate the capabilities of qBraid Algorithms Bernstein Vazirani Module\n",
    "Begin by importing the module from qBraid Algorithms library"
   ]
  },
  {
   "cell_type": "code",
   "execution_count": 2,
   "id": "e939fb23",
   "metadata": {},
   "outputs": [],
   "source": [
    "import pyqasm\n",
    "from qbraid_algorithms import bernstein_vazirani as bv"
   ]
  },
  {
   "cell_type": "markdown",
   "id": "3545fac9",
   "metadata": {},
   "source": [
    "To load a full Bernstein Vazirani algorithm circuit as a PyQASM module, simply pass the secret string to be encoded in the oracle to the `load_program()` method."
   ]
  },
  {
   "cell_type": "code",
   "execution_count": 3,
   "id": "97649823",
   "metadata": {},
   "outputs": [],
   "source": [
    "module = bv.load_program('1011')"
   ]
  },
  {
   "cell_type": "markdown",
   "id": "7e2ac473",
   "metadata": {},
   "source": [
    "We can perform all standard [PyQASM](https://docs.qbraid.com/pyqasm/user-guide/overview) operations on the module, such as unrolling."
   ]
  },
  {
   "cell_type": "code",
   "execution_count": 4,
   "id": "0fb825a7",
   "metadata": {},
   "outputs": [],
   "source": [
    "module.unroll()"
   ]
  },
  {
   "cell_type": "markdown",
   "id": "287b4aa8",
   "metadata": {},
   "source": [
    "Below, we display the unrolled circuit, which includes preparing the input and ancilla qubits, applying the '1011' oracle, applying Hadamard gates after the oracle, then measuring the results."
   ]
  },
  {
   "cell_type": "code",
   "execution_count": 5,
   "id": "31842ddc",
   "metadata": {},
   "outputs": [
    {
     "name": "stdout",
     "output_type": "stream",
     "text": [
      "OPENQASM 3.0;\n",
      "include \"stdgates.inc\";\n",
      "qubit[1] ancilla;\n",
      "qubit[4] q;\n",
      "bit[4] b;\n",
      "h q[0];\n",
      "h q[1];\n",
      "h q[2];\n",
      "h q[3];\n",
      "x ancilla[0];\n",
      "h ancilla[0];\n",
      "cx q[0], ancilla[0];\n",
      "cx q[2], ancilla[0];\n",
      "cx q[3], ancilla[0];\n",
      "h q[0];\n",
      "h q[1];\n",
      "h q[2];\n",
      "h q[3];\n",
      "b[0] = measure q[0];\n",
      "b[1] = measure q[1];\n",
      "b[2] = measure q[2];\n",
      "b[3] = measure q[3];\n",
      "\n"
     ]
    }
   ],
   "source": [
    "module_str = pyqasm.dumps(module)\n",
    "print(module_str)"
   ]
  },
  {
   "cell_type": "markdown",
   "id": "21906ab0",
   "metadata": {},
   "source": [
    "## Using B-V in your own OpenQASM3 program\n",
    "#### qBraid algorithms makes it easy to incorporate either the full Bernstein Vazirani algorithm - or just the encoded oracle - into your own OpenQASM3 circuit.\n",
    "To use a secret string-encoded oracle in your circuit, first generate the oracle submodule using the `generate_oracle` method, which takes a secret string. The method will create a QASM3 file containing your oracle as a subroutine within your current working directory."
   ]
  },
  {
   "cell_type": "code",
   "execution_count": 6,
   "id": "6f3e9784",
   "metadata": {},
   "outputs": [
    {
     "name": "stdout",
     "output_type": "stream",
     "text": [
      "Oracle 'oracle' has been added to /Users/lukeandreesen/qbraid_algos/examples/oracle.qasm\n"
     ]
    }
   ],
   "source": [
    "bv.generate_oracle('111')"
   ]
  },
  {
   "cell_type": "markdown",
   "id": "61817da7",
   "metadata": {},
   "source": [
    "Below, we can see the custom oracle subroutine that you now have access to. To use this in your own circuit, simply add `include \"oracle.qasm\";` to your OpenQASM file, and call the `oracle` subroutine by passing an appropriately sized register of qubits and an ancilla qubit."
   ]
  },
  {
   "cell_type": "code",
   "execution_count": 7,
   "id": "8833f4b9",
   "metadata": {},
   "outputs": [
    {
     "name": "stdout",
     "output_type": "stream",
     "text": [
      "OPENQASM 3.0;\r\n",
      "include \"stdgates.inc\";\r\n",
      "\r\n",
      "def oracle(qubit[3] q, qubit[1] ancilla) {\r\n",
      "    int[32] s = 7;\r\n",
      "    int[16] n = 3;\r\n",
      "    for int i in [0:n - 1] {\r\n",
      "        if ((s >> i) & 1) {\r\n",
      "            cx q[i], ancilla[0];\r\n",
      "        }\r\n",
      "    }\r\n",
      "}\r\n"
     ]
    }
   ],
   "source": [
    "%cat oracle.qasm"
   ]
  },
  {
   "cell_type": "markdown",
   "id": "3672d119",
   "metadata": {},
   "source": [
    "Similarly, you can generate an entire Bernstein Vazirani circuit as a submodule using the `generate_subroutine` method, again passing your desired secret string."
   ]
  },
  {
   "cell_type": "code",
   "execution_count": 8,
   "id": "5e37f60d",
   "metadata": {},
   "outputs": [
    {
     "name": "stdout",
     "output_type": "stream",
     "text": [
      "Subroutine 'bernvaz' has been added to /Users/lukeandreesen/qbraid_algos/examples/bernvaz.qasm\n"
     ]
    }
   ],
   "source": [
    "subroutine = bv.generate_subroutine('011')"
   ]
  },
  {
   "cell_type": "markdown",
   "id": "05cfcdf4",
   "metadata": {},
   "source": [
    "To use the subroutine in your own circuit, add `include \"bernvaz.qasm\";` to your OpenQASM file, and call the `bernvaz` method by passing an appropriately sized register of qubits, as well as an ancilla qubit."
   ]
  },
  {
   "cell_type": "code",
   "execution_count": 9,
   "id": "38b7beb3",
   "metadata": {},
   "outputs": [
    {
     "name": "stdout",
     "output_type": "stream",
     "text": [
      "OPENQASM 3.0;\r\n",
      "include \"stdgates.inc\";\r\n",
      "\r\n",
      "def bernvaz(qubit[3] q, qubit[1] ancilla) {\r\n",
      "    int[32] s = 6;\r\n",
      "    int[16] n = 3;\r\n",
      "    for int i in [0:n - 1] {\r\n",
      "        h q[i];\r\n",
      "    }\r\n",
      "    x ancilla[0];\r\n",
      "    h ancilla[0];\r\n",
      "    // Note: Nested subroutine calls not yet supported by QASM, so manually insert\r\n",
      "    for int i in [0:n - 1] {\r\n",
      "        if ((s >> i) & 1) {\r\n",
      "            cx q[i], ancilla[0];\r\n",
      "        }\r\n",
      "    }\r\n",
      "    for int i in [0:n - 1] {\r\n",
      "        h q[i];\r\n",
      "    }\r\n",
      "\r\n",
      "}\r\n"
     ]
    }
   ],
   "source": [
    "%cat bernvaz.qasm"
   ]
  },
  {
   "cell_type": "markdown",
   "id": "e7d3dd7e",
   "metadata": {},
   "source": [
    "## Running Algorithms on qBraid\n",
    "Running algorithms on qBraid is simple. First, import QbraidProvider from qBraid Runtime. Visit [here](https://docs.qbraid.com/sdk/user-guide/providers/native#qbraidprovider) for more information."
   ]
  },
  {
   "cell_type": "code",
   "execution_count": 10,
   "id": "96870043",
   "metadata": {},
   "outputs": [
    {
     "name": "stderr",
     "output_type": "stream",
     "text": [
      "/opt/homebrew/lib/python3.11/site-packages/pennylane/capture/capture_operators.py:33: RuntimeWarning: PennyLane is not yet compatible with JAX versions > 0.4.28. You have version 0.4.30 installed. Please downgrade JAX to <=0.4.28 to avoid runtime errors.\n",
      "  warnings.warn(\n"
     ]
    }
   ],
   "source": [
    "from qbraid.runtime import QbraidProvider"
   ]
  },
  {
   "cell_type": "markdown",
   "id": "f3ffffdf",
   "metadata": {},
   "source": [
    "If you have not yet configured QbraidProvider, provide your API key."
   ]
  },
  {
   "cell_type": "code",
   "execution_count": 11,
   "id": "b82efa4b",
   "metadata": {},
   "outputs": [],
   "source": [
    "# provider = QbraidProvider(api_key='API_KEY')\n",
    "provider = QbraidProvider()"
   ]
  },
  {
   "cell_type": "markdown",
   "id": "539d7239",
   "metadata": {},
   "source": [
    "We'll run our program on qBraid's QIR simulator."
   ]
  },
  {
   "cell_type": "code",
   "execution_count": 12,
   "id": "a273c97e",
   "metadata": {},
   "outputs": [],
   "source": [
    "device = provider.get_device('qbraid_qir_simulator')"
   ]
  },
  {
   "cell_type": "markdown",
   "id": "8495dbad",
   "metadata": {},
   "source": [
    "To run the job, simply pass a QASM string to the device. If you have a PyQASM module, use `dumps` to generate a QASM string"
   ]
  },
  {
   "cell_type": "code",
   "execution_count": 13,
   "id": "51206d57",
   "metadata": {},
   "outputs": [
    {
     "name": "stdout",
     "output_type": "stream",
     "text": [
      "OPENQASM 3.0;\n",
      "include \"stdgates.inc\";\n",
      "qubit[1] ancilla;\n",
      "qubit[3] q;\n",
      "bit[3] b;\n",
      "h q[0];\n",
      "h q[1];\n",
      "h q[2];\n",
      "x ancilla[0];\n",
      "h ancilla[0];\n",
      "cx q[0], ancilla[0];\n",
      "cx q[2], ancilla[0];\n",
      "h q[0];\n",
      "h q[1];\n",
      "h q[2];\n",
      "b[0] = measure q[0];\n",
      "b[1] = measure q[1];\n",
      "b[2] = measure q[2];\n",
      "\n"
     ]
    }
   ],
   "source": [
    "secret_string = '101'\n",
    "module = bv.load_program(secret_string)\n",
    "module.unroll()\n",
    "qasm_str = pyqasm.dumps(module)\n",
    "print(qasm_str)"
   ]
  },
  {
   "cell_type": "code",
   "execution_count": 14,
   "id": "358fcbc7",
   "metadata": {},
   "outputs": [],
   "source": [
    "job = device.run(qasm_str, shots=500)"
   ]
  },
  {
   "cell_type": "markdown",
   "id": "53858d48",
   "metadata": {},
   "source": [
    "We can now get the counts from the job results."
   ]
  },
  {
   "cell_type": "code",
   "execution_count": 15,
   "id": "9a8f91c5",
   "metadata": {},
   "outputs": [
    {
     "name": "stdout",
     "output_type": "stream",
     "text": [
      "{'1010': 500}\n"
     ]
    }
   ],
   "source": [
    "results = job.result()\n",
    "counts = results.data.get_counts()"
   ]
  },
  {
   "cell_type": "markdown",
   "id": "b00c560b",
   "metadata": {},
   "source": [
    "We can now check the counts to see if the most frequent value is our secret string. This particular backend includes the ancilla qubit as the least significant bit, so we'll remove that."
   ]
  },
  {
   "cell_type": "code",
   "execution_count": 21,
   "id": "b14a37ce",
   "metadata": {},
   "outputs": [
    {
     "name": "stdout",
     "output_type": "stream",
     "text": [
      "Secret String: 101. B-V result string: 101\n"
     ]
    }
   ],
   "source": [
    "# Remove ancilla qubit from bitstring\n",
    "processed_counts = {bitstr[:-1]: count for bitstr, count in counts.items()}\n",
    "# Find most frequent count\n",
    "max_str = max(processed_counts, key=counts.get)\n",
    "\n",
    "print(f\"Secret String: {secret_string}. B-V result string: {result_string}\")"
   ]
  },
  {
   "cell_type": "markdown",
   "id": "29cbdab1",
   "metadata": {},
   "source": [
    "We see that the algorithm successfully identified the secret string. Finally, we can plot the results using qBraid Visualization."
   ]
  },
  {
   "cell_type": "code",
   "execution_count": 17,
   "id": "e84ea61e",
   "metadata": {},
   "outputs": [
    {
     "data": {
      "image/png": "[encoded data removed]",
      "text/plain": [
       "<Figure size 640x480 with 1 Axes>"
      ]
     },
     "metadata": {},
     "output_type": "display_data"
    }
   ],
   "source": [
    "from qbraid.visualization import plot_histogram\n",
    "\n",
    "plot_histogram(counts)"
   ]
  },
  {
   "cell_type": "code",
   "execution_count": null,
   "id": "6d95cc0b",
   "metadata": {},
   "outputs": [],
   "source": []
  }
 ],
 "metadata": {
  "kernelspec": {
   "display_name": "Python 3 (ipykernel)",
   "language": "python",
   "name": "python3"
  },
  "language_info": {
   "codemirror_mode": {
    "name": "ipython",
    "version": 3
   },
   "file_extension": ".py",
   "mimetype": "text/x-python",
   "name": "python",
   "nbconvert_exporter": "python",
   "pygments_lexer": "ipython3",
   "version": "3.11.11"
  }
 },
 "nbformat": 4,
 "nbformat_minor": 5
}
