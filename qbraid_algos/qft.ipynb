{
 "cells": [
  {
   "cell_type": "markdown",
   "id": "338ad3ca",
   "metadata": {},
   "source": [
    "## Quantum Fourier Transform\n",
    "#### In this tutorial, we will demonstrate the capabilities of qBraid Algorithms QFT and Inverse QFT (IQFT) Modules\n",
    "Begin by importing the modules from qBraid Algorithms library"
   ]
  },
  {
   "cell_type": "code",
   "execution_count": 2,
   "id": "ccfc911a",
   "metadata": {},
   "outputs": [],
   "source": [
    "import pyqasm\n",
    "from qbraid_algorithms import qft\n",
    "from qbraid_algorithms import iqft"
   ]
  },
  {
   "cell_type": "markdown",
   "id": "87d3980f",
   "metadata": {},
   "source": [
    "We can load both QFT and IQFT as PyQASM modules by calling the `load_program` method, passing the number of qubits to apply the operations to."
   ]
  },
  {
   "cell_type": "code",
   "execution_count": 3,
   "id": "ff7dc849",
   "metadata": {},
   "outputs": [],
   "source": [
    "num_qubits = 3\n",
    "qft_module = qft.load_program(num_qubits)\n",
    "iqft_module = iqft.load_program(num_qubits)"
   ]
  },
  {
   "cell_type": "markdown",
   "id": "b68eeb17",
   "metadata": {},
   "source": [
    "We can perform all standard [PyQASM](https://docs.qbraid.com/pyqasm/user-guide/overview) operations on the module, such as unrolling."
   ]
  },
  {
   "cell_type": "code",
   "execution_count": 4,
   "id": "e8c1a74d",
   "metadata": {},
   "outputs": [],
   "source": [
    "qft_module.unroll()\n",
    "iqft_module.unroll()"
   ]
  },
  {
   "cell_type": "code",
   "execution_count": 5,
   "id": "4ff9ef62",
   "metadata": {},
   "outputs": [],
   "source": [
    "qft_str = pyqasm.dumps(qft_module)\n",
    "iqft_str = pyqasm.dumps(iqft_module)"
   ]
  },
  {
   "cell_type": "markdown",
   "id": "d626c8d5",
   "metadata": {},
   "source": [
    "Below, we display a preview of the the unrolled QFT circuit, followed by the IQFT circuit."
   ]
  },
  {
   "cell_type": "code",
   "execution_count": 6,
   "id": "b2795398",
   "metadata": {},
   "outputs": [
    {
     "name": "stdout",
     "output_type": "stream",
     "text": [
      "OPENQASM 3.0;\n",
      "include \"stdgates.inc\";\n",
      "qubit[3] q;\n",
      "bit[3] b;\n",
      "h q[0];\n",
      "rz(0.7853981633974483) q[1];\n",
      "rx(1.5707963267948966) q[1];\n",
      "rz(3.141592653589793) q[1];\n",
      "rx(1.5707963267948966) q[1];\n",
      "rz(3.141592653589793) q[1];\n",
      "...\n",
      "rx(1.5707963267948966) q[1];\n",
      "rz(3.141592653589793) q[1];\n",
      "rx(1.5707963267948966) q[1];\n",
      "rz(3.141592653589793) q[1];\n",
      "h q[2];\n",
      "swap q[0], q[2];\n",
      "b[0] = measure q[0];\n",
      "b[1] = measure q[1];\n",
      "b[2] = measure q[2];\n",
      "\n"
     ]
    }
   ],
   "source": [
    "print(\"\\n\".join(qft_str.split(\"\\n\")[:10]) + \"\\n...\\n\" + \"\\n\".join(qft_str.split(\"\\n\")[-10:]))"
   ]
  },
  {
   "cell_type": "code",
   "execution_count": 7,
   "id": "385c7c14",
   "metadata": {},
   "outputs": [
    {
     "name": "stdout",
     "output_type": "stream",
     "text": [
      "OPENQASM 3.0;\n",
      "include \"stdgates.inc\";\n",
      "qubit[3] q;\n",
      "bit[3] b;\n",
      "h q[2];\n",
      "rz(-0.7853981633974483) q[2];\n",
      "rx(1.5707963267948966) q[2];\n",
      "rz(3.141592653589793) q[2];\n",
      "rx(1.5707963267948966) q[2];\n",
      "rz(3.141592653589793) q[2];\n",
      "...\n",
      "rx(1.5707963267948966) q[0];\n",
      "rz(3.141592653589793) q[0];\n",
      "rx(1.5707963267948966) q[0];\n",
      "rz(3.141592653589793) q[0];\n",
      "h q[0];\n",
      "swap q[0], q[2];\n",
      "b[0] = measure q[0];\n",
      "b[1] = measure q[1];\n",
      "b[2] = measure q[2];\n",
      "\n"
     ]
    }
   ],
   "source": [
    "print(\"\\n\".join(iqft_str.split(\"\\n\")[:10]) + \"\\n...\\n\" + \"\\n\".join(iqft_str.split(\"\\n\")[-10:]))"
   ]
  },
  {
   "cell_type": "markdown",
   "id": "35ada7c7",
   "metadata": {},
   "source": [
    "## Using Quantum Fourier Transform in your own OpenQASM3 program\n",
    "#### qBraid algorithms makes it easy to incorporate QFT and IQFT into your own OpenQASM3 circuit.\n",
    "To use a QFT/IQFT in your circuit, first generate the subroutine using the `generate_subroutine` method, which takes the number of qubits to use. The method will create a QASM3 file containing the algorithm as a subroutine within your current working directory."
   ]
  },
  {
   "cell_type": "code",
   "execution_count": 8,
   "id": "3da3ed9d",
   "metadata": {},
   "outputs": [
    {
     "name": "stdout",
     "output_type": "stream",
     "text": [
      "Subroutine 'qft' has been added to /Users/lukeandreesen/qbraid_algos/examples/qft.qasm\n",
      "Subroutine 'iqft' has been added to /Users/lukeandreesen/qbraid_algos/examples/iqft.qasm\n"
     ]
    }
   ],
   "source": [
    "qft.generate_subroutine(3)\n",
    "iqft.generate_subroutine(3)"
   ]
  },
  {
   "cell_type": "markdown",
   "id": "9fb21cfd",
   "metadata": {},
   "source": [
    "To use the QFT subroutine in your own circuit, add `include \"qft.qasm\";` to your OpenQASM file, and call the `qft` method by passing an appropriately sized register of qubits."
   ]
  },
  {
   "cell_type": "code",
   "execution_count": 9,
   "id": "59fb5dec",
   "metadata": {},
   "outputs": [
    {
     "name": "stdout",
     "output_type": "stream",
     "text": [
      "OPENQASM 3.0;\r\n",
      "include \"stdgates.inc\";\r\n",
      "\r\n",
      "\r\n",
      "def qft(qubit[3] q) {\r\n",
      "  int n = 3;\r\n",
      "  for int[16] i in [0:n - 1] {\r\n",
      "    h q[i];\r\n",
      "    for int[16] j in [i + 1:n - 1] {\r\n",
      "      int[16] k = j - i;\r\n",
      "      cp(2 * pi / (1 << (k + 1))) q[j], q[i];\r\n",
      "    }\r\n",
      "  }\r\n",
      "\r\n",
      "  for int[16] i in [0:(n >> 1) - 1] {\r\n",
      "    swap q[i], q[n - i - 1];\r\n",
      "  }\r\n",
      "}"
     ]
    }
   ],
   "source": [
    "%cat qft.qasm"
   ]
  },
  {
   "cell_type": "markdown",
   "id": "ab150803",
   "metadata": {},
   "source": [
    "To use the IQFT subroutine in your own circuit, add `include \"qft.qasm\";` to your OpenQASM file, and call the `qft` method by passing an appropriately sized register of qubits."
   ]
  },
  {
   "cell_type": "code",
   "execution_count": 10,
   "id": "66248d06",
   "metadata": {},
   "outputs": [
    {
     "name": "stdout",
     "output_type": "stream",
     "text": [
      "OPENQASM 3.0;\r\n",
      "include \"stdgates.inc\";\r\n",
      "\r\n",
      "def iqft(qubit[3] q) {\r\n",
      "    int n = 3;\r\n",
      "  \r\n",
      "    for int[16] i in [0:n-1] {\r\n",
      "        int[16] target = n - i - 1;\r\n",
      "        for int[16] j in [0:(n - target - 2)] {\r\n",
      "            int[16] control = n - j - 1;\r\n",
      "            int[16] k = control - target;\r\n",
      "            cp(-2 * pi / (1 << (k + 1))) q[control], q[target];\r\n",
      "        }\r\n",
      "        h q[target];\r\n",
      "    }\r\n",
      "\r\n",
      "    for int[16] i in [0:(n >> 1) - 1] {\r\n",
      "        swap q[i], q[n - i - 1];\r\n",
      "    }\r\n",
      "}"
     ]
    }
   ],
   "source": [
    "%cat iqft.qasm"
   ]
  },
  {
   "cell_type": "markdown",
   "id": "d94efa88",
   "metadata": {},
   "source": [
    "## Running Algorithms on qBraid\n",
    "Running algorithms on qBraid is simple. First, import QbraidProvider from qBraid Runtime. Visit [here](https://docs.qbraid.com/sdk/user-guide/providers/native#qbraidprovider) for more information."
   ]
  },
  {
   "cell_type": "code",
   "execution_count": 11,
   "id": "f2b39f1a",
   "metadata": {},
   "outputs": [
    {
     "name": "stderr",
     "output_type": "stream",
     "text": [
      "/opt/homebrew/lib/python3.11/site-packages/pennylane/capture/capture_operators.py:33: RuntimeWarning: PennyLane is not yet compatible with JAX versions > 0.4.28. You have version 0.4.30 installed. Please downgrade JAX to <=0.4.28 to avoid runtime errors.\n",
      "  warnings.warn(\n"
     ]
    }
   ],
   "source": [
    "from qbraid.runtime import QbraidProvider"
   ]
  },
  {
   "cell_type": "markdown",
   "id": "e12616de",
   "metadata": {},
   "source": [
    "If you have not yet configured QbraidProvider, provide your API key."
   ]
  },
  {
   "cell_type": "code",
   "execution_count": 12,
   "id": "4bb1e7e5",
   "metadata": {},
   "outputs": [],
   "source": [
    "# provider = QbraidProvider(api_key='API_KEY')\n",
    "provider = QbraidProvider()"
   ]
  },
  {
   "cell_type": "markdown",
   "id": "629d7b9e",
   "metadata": {},
   "source": [
    "We'll run our program on qBraid's QIR simulator."
   ]
  },
  {
   "cell_type": "code",
   "execution_count": 13,
   "id": "80ee5d99",
   "metadata": {},
   "outputs": [],
   "source": [
    "device = provider.get_device('qbraid_qir_simulator')"
   ]
  },
  {
   "cell_type": "markdown",
   "id": "4dce4910",
   "metadata": {},
   "source": [
    "To run the job, simply pass a QASM string to the device. If you have a PyQASM module, use `dumps` to generate a QASM string"
   ]
  },
  {
   "cell_type": "code",
   "execution_count": 14,
   "id": "293bfb68",
   "metadata": {},
   "outputs": [],
   "source": [
    "module = qft.load_program(4)\n",
    "qasm_str = pyqasm.dumps(module)"
   ]
  },
  {
   "cell_type": "code",
   "execution_count": 15,
   "id": "8a26081c",
   "metadata": {},
   "outputs": [],
   "source": [
    "job = device.run(qasm_str, shots=500)"
   ]
  },
  {
   "cell_type": "markdown",
   "id": "d3c7c3a9",
   "metadata": {},
   "source": [
    "We can now get the counts from the job results."
   ]
  },
  {
   "cell_type": "code",
   "execution_count": 17,
   "id": "7e1a7a8a",
   "metadata": {},
   "outputs": [
    {
     "name": "stdout",
     "output_type": "stream",
     "text": [
      "{'0000': 21, '0001': 39, '0010': 27, '0011': 35, '0100': 4, '0101': 4, '0110': 34, '0111': 16, '1000': 25, '1001': 18, '1010': 14, '1011': 8, '1100': 54, '1101': 58, '1110': 69, '1111': 74}\n"
     ]
    }
   ],
   "source": [
    "results = job.result()\n",
    "counts = results.data.get_counts()\n",
    "print(counts)"
   ]
  },
  {
   "cell_type": "markdown",
   "id": "65f39cab",
   "metadata": {},
   "source": [
    "Finally, we can plot the results using qBraid Visualization."
   ]
  },
  {
   "cell_type": "code",
   "execution_count": 18,
   "id": "b201c84b",
   "metadata": {},
   "outputs": [
    {
     "data": {
      "image/png": "[encoded data removed]",
      "text/plain": [
       "<Figure size 640x480 with 1 Axes>"
      ]
     },
     "metadata": {},
     "output_type": "display_data"
    }
   ],
   "source": [
    "from qbraid.visualization import plot_histogram\n",
    "\n",
    "plot_histogram(counts)"
   ]
  },
  {
   "cell_type": "code",
   "execution_count": null,
   "id": "de8bcb0f",
   "metadata": {},
   "outputs": [],
   "source": []
  }
 ],
 "metadata": {
  "kernelspec": {
   "display_name": "Python 3 (ipykernel)",
   "language": "python",
   "name": "python3"
  },
  "language_info": {
   "codemirror_mode": {
    "name": "ipython",
    "version": 3
   },
   "file_extension": ".py",
   "mimetype": "text/x-python",
   "name": "python",
   "nbconvert_exporter": "python",
   "pygments_lexer": "ipython3",
   "version": "3.11.11"
  }
 },
 "nbformat": 4,
 "nbformat_minor": 5
}
