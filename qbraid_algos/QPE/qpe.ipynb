{
 "cells": [
  {
   "cell_type": "markdown",
   "id": "405f6563",
   "metadata": {},
   "source": [
    "## Quantum Phase Estimation (QPE)\n",
    "#### In this tutorial, we will demonstrate the capabilities of qBraid Algorithms Quantum Phase Estimation Module\n",
    "Begin by importing the module from qBraid Algorithms library"
   ]
  },
  {
   "cell_type": "code",
   "execution_count": 70,
   "id": "0a281dc2",
   "metadata": {},
   "outputs": [],
   "source": [
    "import pyqasm\n",
    "from qbraid_algorithms import qpe"
   ]
  },
  {
   "cell_type": "markdown",
   "id": "727d132b",
   "metadata": {},
   "source": [
    "To load a full QPE algorithm circuit as a PyQASM module, pass a path to the unitary U to the `load_program()` method - this shoulds be defined as a valid custom QASM gate. Additionally, pass a custom gate that prepares your eigenstate. For example,  to set the eigenstate to |1$\\rangle$, simply define and pass the following .qasm file:\n",
    "```\n",
    "OPENQASM 3.0;\n",
    "include \"stdgates.inc\";\n",
    "\n",
    "gate prep q {\n",
    "    x q;\n",
    "}\n",
    "```\n",
    "Note, the gate names in both cases can be anything."
   ]
  },
  {
   "cell_type": "code",
   "execution_count": 71,
   "id": "82d18afa",
   "metadata": {},
   "outputs": [],
   "source": [
    "module = qpe.load_program(\"unitary.qasm\", \"prepare_state.qasm\")"
   ]
  },
  {
   "cell_type": "markdown",
   "id": "57bc257e",
   "metadata": {},
   "source": [
    "We can perform all standard [PyQASM](https://docs.qbraid.com/pyqasm/user-guide/overview) operations on the module, such as unrolling."
   ]
  },
  {
   "cell_type": "code",
   "execution_count": 72,
   "id": "c294fd7f",
   "metadata": {},
   "outputs": [],
   "source": [
    "module.unroll()"
   ]
  },
  {
   "cell_type": "markdown",
   "id": "01a23645",
   "metadata": {},
   "source": [
    "Below, we display the unrolled circuits."
   ]
  },
  {
   "cell_type": "code",
   "execution_count": 73,
   "id": "046b193b",
   "metadata": {},
   "outputs": [
    {
     "name": "stdout",
     "output_type": "stream",
     "text": [
      "OPENQASM 3.0;\n",
      "include \"stdgates.inc\";\n",
      "qubit[4] q;\n",
      "qubit[1] psi;\n",
      "bit[4] b;\n",
      "x psi[0];\n",
      "h q[0];\n",
      "h q[1];\n",
      "h q[2];\n",
      "h q[3];\n",
      "cz q[0], psi[0];\n",
      "cz q[1], psi[0];\n",
      "cz q[1], psi[0];\n",
      "cz q[2], psi[0];\n",
      "cz q[2], psi[0];\n",
      "cz q[2], psi[0];\n",
      "cz q[2], psi[0];\n",
      "cz q[3], psi[0];\n",
      "cz q[3], psi[0];\n",
      "cz q[3], psi[0];\n",
      "cz q[3], psi[0];\n",
      "cz q[3], psi[0];\n",
      "cz q[3], psi[0];\n",
      "cz q[3], psi[0];\n",
      "cz q[3], psi[0];\n",
      "h q[3];\n",
      "rz(-0.7853981633974483) q[3];\n",
      "rx(1.5707963267948966) q[3];\n",
      "rz(3.141592653589793) q[3];\n",
      "rx(1.5707963267948966) q[3];\n",
      "rz(3.141592653589793) q[3];\n",
      "cx q[3], q[2];\n",
      "rz(0.7853981633974483) q[2];\n",
      "rx(1.5707963267948966) q[2];\n",
      "rz(3.141592653589793) q[2];\n",
      "rx(1.5707963267948966) q[2];\n",
      "rz(3.141592653589793) q[2];\n",
      "cx q[3], q[2];\n",
      "rz(-0.7853981633974483) q[2];\n",
      "rx(1.5707963267948966) q[2];\n",
      "rz(3.141592653589793) q[2];\n",
      "rx(1.5707963267948966) q[2];\n",
      "rz(3.141592653589793) q[2];\n",
      "h q[2];\n",
      "rz(-0.39269908169872414) q[3];\n",
      "rx(1.5707963267948966) q[3];\n",
      "rz(3.141592653589793) q[3];\n",
      "rx(1.5707963267948966) q[3];\n",
      "rz(3.141592653589793) q[3];\n",
      "cx q[3], q[1];\n",
      "rz(0.39269908169872414) q[1];\n",
      "rx(1.5707963267948966) q[1];\n",
      "rz(3.141592653589793) q[1];\n",
      "rx(1.5707963267948966) q[1];\n",
      "rz(3.141592653589793) q[1];\n",
      "cx q[3], q[1];\n",
      "rz(-0.39269908169872414) q[1];\n",
      "rx(1.5707963267948966) q[1];\n",
      "rz(3.141592653589793) q[1];\n",
      "rx(1.5707963267948966) q[1];\n",
      "rz(3.141592653589793) q[1];\n",
      "rz(-0.7853981633974483) q[2];\n",
      "rx(1.5707963267948966) q[2];\n",
      "rz(3.141592653589793) q[2];\n",
      "rx(1.5707963267948966) q[2];\n",
      "rz(3.141592653589793) q[2];\n",
      "cx q[2], q[1];\n",
      "rz(0.7853981633974483) q[1];\n",
      "rx(1.5707963267948966) q[1];\n",
      "rz(3.141592653589793) q[1];\n",
      "rx(1.5707963267948966) q[1];\n",
      "rz(3.141592653589793) q[1];\n",
      "cx q[2], q[1];\n",
      "rz(-0.7853981633974483) q[1];\n",
      "rx(1.5707963267948966) q[1];\n",
      "rz(3.141592653589793) q[1];\n",
      "rx(1.5707963267948966) q[1];\n",
      "rz(3.141592653589793) q[1];\n",
      "h q[1];\n",
      "rz(-0.19634954084936207) q[3];\n",
      "rx(1.5707963267948966) q[3];\n",
      "rz(3.141592653589793) q[3];\n",
      "rx(1.5707963267948966) q[3];\n",
      "rz(3.141592653589793) q[3];\n",
      "cx q[3], q[0];\n",
      "rz(0.19634954084936207) q[0];\n",
      "rx(1.5707963267948966) q[0];\n",
      "rz(3.141592653589793) q[0];\n",
      "rx(1.5707963267948966) q[0];\n",
      "rz(3.141592653589793) q[0];\n",
      "cx q[3], q[0];\n",
      "rz(-0.19634954084936207) q[0];\n",
      "rx(1.5707963267948966) q[0];\n",
      "rz(3.141592653589793) q[0];\n",
      "rx(1.5707963267948966) q[0];\n",
      "rz(3.141592653589793) q[0];\n",
      "rz(-0.39269908169872414) q[2];\n",
      "rx(1.5707963267948966) q[2];\n",
      "rz(3.141592653589793) q[2];\n",
      "rx(1.5707963267948966) q[2];\n",
      "rz(3.141592653589793) q[2];\n",
      "cx q[2], q[0];\n",
      "rz(0.39269908169872414) q[0];\n",
      "rx(1.5707963267948966) q[0];\n",
      "rz(3.141592653589793) q[0];\n",
      "rx(1.5707963267948966) q[0];\n",
      "rz(3.141592653589793) q[0];\n",
      "cx q[2], q[0];\n",
      "rz(-0.39269908169872414) q[0];\n",
      "rx(1.5707963267948966) q[0];\n",
      "rz(3.141592653589793) q[0];\n",
      "rx(1.5707963267948966) q[0];\n",
      "rz(3.141592653589793) q[0];\n",
      "rz(-0.7853981633974483) q[1];\n",
      "rx(1.5707963267948966) q[1];\n",
      "rz(3.141592653589793) q[1];\n",
      "rx(1.5707963267948966) q[1];\n",
      "rz(3.141592653589793) q[1];\n",
      "cx q[1], q[0];\n",
      "rz(0.7853981633974483) q[0];\n",
      "rx(1.5707963267948966) q[0];\n",
      "rz(3.141592653589793) q[0];\n",
      "rx(1.5707963267948966) q[0];\n",
      "rz(3.141592653589793) q[0];\n",
      "cx q[1], q[0];\n",
      "rz(-0.7853981633974483) q[0];\n",
      "rx(1.5707963267948966) q[0];\n",
      "rz(3.141592653589793) q[0];\n",
      "rx(1.5707963267948966) q[0];\n",
      "rz(3.141592653589793) q[0];\n",
      "h q[0];\n",
      "swap q[0], q[3];\n",
      "swap q[1], q[2];\n",
      "b[0] = measure q[0];\n",
      "b[1] = measure q[1];\n",
      "b[2] = measure q[2];\n",
      "b[3] = measure q[3];\n",
      "\n"
     ]
    }
   ],
   "source": [
    "module_str = pyqasm.dumps(module)\n",
    "print(module_str)"
   ]
  },
  {
   "cell_type": "markdown",
   "id": "858d7bf8",
   "metadata": {},
   "source": [
    "## Using QPE in your own OpenQASM3 program\n",
    "#### qBraid algorithms makes it easy to incorporate QPE into your own OpenQASM3 circuit.\n",
    "To use the QPE algorithm within your own circuit, simply pass the path to your pre-defined unitary operation to the `generate_subroutine` function. The function will generate a subroutine containing QPE for your unitary within a QASM file located in your current working directory, or any path of your choice."
   ]
  },
  {
   "cell_type": "code",
   "execution_count": 74,
   "id": "1efed244",
   "metadata": {},
   "outputs": [
    {
     "name": "stdout",
     "output_type": "stream",
     "text": [
      "Subroutine 'qpe' has been added to /Users/lukeandreesen/qbraid_algos/examples/QPE/qpe.qasm\n"
     ]
    }
   ],
   "source": [
    "qpe.generate_subroutine(\"unitary.qasm\")"
   ]
  },
  {
   "cell_type": "markdown",
   "id": "8738adb4",
   "metadata": {},
   "source": [
    "To use the subroutine in your own circuit, add `include \"qpe.qasm\";` to your OpenQASM file, and call the `qpe` method by passing an appropriately sized register of qubits, as well as an ancilla qubit."
   ]
  },
  {
   "cell_type": "code",
   "execution_count": 75,
   "id": "72a9dbe9",
   "metadata": {},
   "outputs": [
    {
     "name": "stdout",
     "output_type": "stream",
     "text": [
      "OPENQASM 3.0;\r\n",
      "include \"stdgates.inc\";\r\n",
      "include \"iqft.qasm\";\r\n",
      "\r\n",
      "gate custom_t q {\r\n",
      "  z q;\r\n",
      "}\r\n",
      "\r\n",
      "gate CU a, b {\r\n",
      "  ctrl @ custom_t a, b;\r\n",
      "}\r\n",
      " \r\n",
      "\r\n",
      "def qpe(qubit[4] q, qubit[1] psi) {\r\n",
      "    int n = 4;\r\n",
      "    for int i in [0:n-1] {\r\n",
      "        h q[i];\r\n",
      "    }\r\n",
      "    for int j in [0:n-1] {\r\n",
      "        int[16] k = 1 << j;\r\n",
      "        for int m in [0:k-1] {\r\n",
      "            CU q[j], psi[0];\r\n",
      "        }\r\n",
      "    }\r\n",
      "    iqft(q);\r\n",
      "\r\n",
      "}"
     ]
    }
   ],
   "source": [
    "%cat qpe.qasm"
   ]
  },
  {
   "cell_type": "markdown",
   "id": "7d939af7",
   "metadata": {},
   "source": [
    "## Running Algorithms on qBraid\n",
    "Running algorithms on qBraid is simple. First, import QbraidProvider from qBraid Runtime. Visit [here](https://docs.qbraid.com/sdk/user-guide/providers/native#qbraidprovider) for more information."
   ]
  },
  {
   "cell_type": "markdown",
   "id": "6401942b",
   "metadata": {},
   "source": [
    "### Sample Problem:  QPE with |1⟩ and the Z Gate\n",
    "\n",
    "The **Pauli-Z** gate is defined as:\n",
    "\n",
    "$$\n",
    "Z =\n",
    "\\begin{bmatrix}\n",
    "1 & 0 \\\\\n",
    "0 & -1\n",
    "\\end{bmatrix}\n",
    "$$\n",
    "\n",
    "#### 1. Eigenvalues and Eigenstates\n",
    "- $|0\\rangle$ → eigenvalue $+1 = e^{2\\pi i \\cdot 0}$ → phase $\\phi = 0$  \n",
    "- $|1\\rangle$ → eigenvalue $-1 = e^{i\\pi} = e^{2\\pi i \\cdot \\frac12}$ → phase $\\phi = 0.5$\n",
    "\n",
    "Since our input state is $|1\\rangle$, we are in an **eigenstate** of $Z$ with eigenvalue $-1$.\n",
    "\n",
    "#### 2. Phase Interpretation\n",
    "In QPE, the unitary’s eigenvalue is written as:\n",
    "\n",
    "$$\n",
    "\\lambda = e^{2\\pi i \\phi}\n",
    "$$\n",
    "\n",
    "For $\\lambda = -1$:\n",
    "\n",
    "$$\n",
    "-1 = e^{i\\pi} = e^{2\\pi i \\cdot \\frac12}\n",
    "$$\n",
    "$$\n",
    "\\Rightarrow \\phi = \\frac12\n",
    "$$\n",
    "\n",
    "#### 3. QPE Output with 3 Counting Qubits\n",
    "- $n = 3$ → precision is $2^3 = 8$ possible values  \n",
    "- $\\phi = 0.5$ in binary with 3 bits is:\n",
    "$$\n",
    "0.5 = 0.100_2\n",
    "$$\n",
    "- QPE measurement register will give **`100`** with probability $1$.\n",
    "\n",
    "---\n",
    "\n",
    "**Final result:**  \n",
    "For $|1\\rangle$ and $Z$, QPE perfectly returns `100` for 3 counting qubits, corresponding to a phase of **0.5**.\n"
   ]
  },
  {
   "cell_type": "code",
   "execution_count": 76,
   "id": "74c3cd37",
   "metadata": {},
   "outputs": [],
   "source": [
    "from qbraid.runtime import QbraidProvider"
   ]
  },
  {
   "cell_type": "markdown",
   "id": "14200703",
   "metadata": {},
   "source": [
    "If you have not yet configured QbraidProvider, provide your API key."
   ]
  },
  {
   "cell_type": "code",
   "execution_count": 77,
   "id": "9d35aeaa",
   "metadata": {},
   "outputs": [],
   "source": [
    "# provider = QbraidProvider(api_key='API_KEY')\n",
    "provider = QbraidProvider()"
   ]
  },
  {
   "cell_type": "markdown",
   "id": "011126c3",
   "metadata": {},
   "source": [
    "We'll run our program on qBraid's QIR simulator."
   ]
  },
  {
   "cell_type": "code",
   "execution_count": 78,
   "id": "9023abed",
   "metadata": {},
   "outputs": [],
   "source": [
    "device = provider.get_device('qbraid_qir_simulator')"
   ]
  },
  {
   "cell_type": "code",
   "execution_count": 79,
   "id": "3fd289f7",
   "metadata": {
    "scrolled": true
   },
   "outputs": [
    {
     "name": "stdout",
     "output_type": "stream",
     "text": [
      "[<qbraid.runtime.native.device.QbraidDevice('aws_sv1')>, <qbraid.runtime.native.device.QbraidDevice('aws_tn1')>, <qbraid.runtime.native.device.QbraidDevice('quera_aquila')>, <qbraid.runtime.native.device.QbraidDevice('aws_dm1')>, <qbraid.runtime.native.device.QbraidDevice('qbraid_qir_simulator')>, <qbraid.runtime.native.device.QbraidDevice('iqm_garnet')>, <qbraid.runtime.native.device.QbraidDevice('ionq_simulator')>, <qbraid.runtime.native.device.QbraidDevice('rigetti_ankaa_3')>, <qbraid.runtime.native.device.QbraidDevice('iqm_emerald')>]\n"
     ]
    }
   ],
   "source": [
    "print(provider.get_devices())"
   ]
  },
  {
   "cell_type": "markdown",
   "id": "76f7ad3a",
   "metadata": {},
   "source": [
    "To run the job, simply pass a QASM string to the device. If you have a PyQASM module, use `dumps` to generate a QASM string"
   ]
  },
  {
   "cell_type": "code",
   "execution_count": 80,
   "id": "4532cf30",
   "metadata": {},
   "outputs": [],
   "source": [
    "module = qpe.load_program(\"unitary.qasm\", \"prepare_state.qasm\", num_qubits=3)\n",
    "module.unroll()\n",
    "qasm_str = pyqasm.dumps(module)"
   ]
  },
  {
   "cell_type": "code",
   "execution_count": 81,
   "id": "434bf090",
   "metadata": {},
   "outputs": [],
   "source": [
    "job = device.run(qasm_str, shots=500)"
   ]
  },
  {
   "cell_type": "markdown",
   "id": "713d7e0d",
   "metadata": {},
   "source": [
    "Endianess is flipped for this machine - so we'll reverse the Qubit order; we also receive measurement results for the Ancilla qubit, which we'll drop here."
   ]
  },
  {
   "cell_type": "code",
   "execution_count": 82,
   "id": "4dffb435",
   "metadata": {},
   "outputs": [],
   "source": [
    "results = job.result()\n",
    "counts = results.data.get_counts()\n",
    "# Drop the ancilla qubit\n",
    "counts = {bitstr[:-1]: count for bitstr, count in counts.items()}\n",
    "# Reverse the qubit order\n",
    "counts = {bitstr[::-1]: count for bitstr, count in counts.items()}\n",
    "\n",
    "result = qpe.get_eigenvalue(counts)"
   ]
  },
  {
   "cell_type": "markdown",
   "id": "8ee6aa91",
   "metadata": {},
   "source": [
    "Below, we show our succesfuly result of 0.5"
   ]
  },
  {
   "cell_type": "code",
   "execution_count": 83,
   "id": "25c8c8fb",
   "metadata": {},
   "outputs": [
    {
     "name": "stdout",
     "output_type": "stream",
     "text": [
      "0.5\n"
     ]
    }
   ],
   "source": [
    "print(result)"
   ]
  },
  {
   "cell_type": "markdown",
   "id": "75dfbb27",
   "metadata": {},
   "source": [
    "Finally, we can plot the results using qBraid Visualization."
   ]
  },
  {
   "cell_type": "code",
   "execution_count": 84,
   "id": "6ea15fac",
   "metadata": {},
   "outputs": [
    {
     "data": {
      "image/png": "[encoded data removed]",
      "text/plain": [
       "<Figure size 640x480 with 1 Axes>"
      ]
     },
     "metadata": {},
     "output_type": "display_data"
    }
   ],
   "source": [
    "from qbraid.visualization import plot_histogram\n",
    "\n",
    "plot_histogram(counts)"
   ]
  },
  {
   "cell_type": "code",
   "execution_count": null,
   "id": "14285905",
   "metadata": {},
   "outputs": [],
   "source": []
  }
 ],
 "metadata": {
  "kernelspec": {
   "display_name": "Python 3 (ipykernel)",
   "language": "python",
   "name": "python3"
  },
  "language_info": {
   "codemirror_mode": {
    "name": "ipython",
    "version": 3
   },
   "file_extension": ".py",
   "mimetype": "text/x-python",
   "name": "python",
   "nbconvert_exporter": "python",
   "pygments_lexer": "ipython3",
   "version": "3.11.11"
  }
 },
 "nbformat": 4,
 "nbformat_minor": 5
}
