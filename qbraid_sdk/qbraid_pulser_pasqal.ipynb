{
 "cells": [
  {
   "cell_type": "code",
   "execution_count": 1,
   "id": "2822c66a-7b7e-44f8-a412-3d067061defc",
   "metadata": {},
   "outputs": [],
   "source": [
    "import numpy as np\n",
    "import pulser\n",
    "from qbraid.runtime import QbraidProvider\n",
    "\n",
    "provider = QbraidProvider()\n",
    "\n",
    "input_data = {}\n",
    "\n",
    "qubits = {\n",
    "    \"q0\": (0, 0),\n",
    "    \"q1\": (0, 10),\n",
    "    \"q2\": (8, 2),\n",
    "    \"q3\": (1, 15),\n",
    "    \"q4\": (-10, -3),\n",
    "    \"q5\": (-8, 5),\n",
    "}\n",
    "register = pulser.Register(qubits)\n",
    "\n",
    "sequence = pulser.Sequence(register, pulser.DigitalAnalogDevice)\n",
    "sequence.declare_channel(\"ch0\", \"rydberg_global\")\n",
    "\n",
    "amp_wf = pulser.BlackmanWaveform(1000, np.pi)\n",
    "det_wf = pulser.RampWaveform(1000, -5, 5)\n",
    "pulse = pulser.Pulse(amp_wf, det_wf, 0)\n",
    "sequence.add(pulse, \"ch0\")\n",
    "\n",
    "device = provider.get_device(\"pasqal.sim.emu-tn\")\n",
    "\n",
    "job = device.run(sequence, shots=1)"
   ]
  },
  {
   "cell_type": "code",
   "execution_count": 4,
   "id": "0545929d-55b6-4c2f-b42d-aa2ac609545b",
   "metadata": {},
   "outputs": [
    {
     "data": {
      "text/plain": [
       "<INITIALIZING: 'job is being initialized'>"
      ]
     },
     "execution_count": 4,
     "metadata": {},
     "output_type": "execute_result"
    }
   ],
   "source": [
    "job.status()"
   ]
  },
  {
   "cell_type": "code",
   "execution_count": 5,
   "id": "f299af4c-f8a6-4c92-be86-ed85313ae481",
   "metadata": {},
   "outputs": [
    {
     "data": {
      "text/plain": [
       "{'000100': 1}"
      ]
     },
     "execution_count": 5,
     "metadata": {},
     "output_type": "execute_result"
    }
   ],
   "source": [
    "job.wait_for_final_state()\n",
    "\n",
    "result = job.result()\n",
    "\n",
    "result.data.get_counts()"
   ]
  },
  {
   "cell_type": "code",
   "execution_count": null,
   "id": "4a1ee90f-0f20-4ddf-b37d-152889b3e2e8",
   "metadata": {},
   "outputs": [],
   "source": []
  }
 ],
 "metadata": {
  "kernelspec": {
   "display_name": "Python 3 [qBraid]",
   "language": "python",
   "name": "python3_qbraid_xjvvwj"
  },
  "language_info": {
   "codemirror_mode": {
    "name": "ipython",
    "version": 3
   },
   "file_extension": ".py",
   "mimetype": "text/x-python",
   "name": "python",
   "nbconvert_exporter": "python",
   "pygments_lexer": "ipython3",
   "version": "3.11.9"
  }
 },
 "nbformat": 4,
 "nbformat_minor": 5
}
