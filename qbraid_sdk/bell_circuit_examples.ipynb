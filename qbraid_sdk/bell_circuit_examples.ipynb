{
 "cells": [
  {
   "cell_type": "code",
   "execution_count": 1,
   "metadata": {},
   "outputs": [],
   "source": [
    "from qbraid import QbraidProvider\n",
    "\n",
    "provider = QbraidProvider()\n",
    "\n",
    "device = provider.get_device(\"qbraid_qir_simulator\")"
   ]
  },
  {
   "cell_type": "code",
   "execution_count": 53,
   "metadata": {},
   "outputs": [
    {
     "data": {
      "text/plain": [
       "Circuit('instructions': [Instruction('operator': H('qubit_count': 1), 'target': QubitSet([Qubit(0)]), 'control': QubitSet([]), 'control_state': (), 'power': 1), Instruction('operator': CNot('qubit_count': 2), 'target': QubitSet([Qubit(0), Qubit(1)]), 'control': QubitSet([]), 'control_state': (), 'power': 1), Instruction('operator': Measure, 'target': QubitSet([Qubit(0)]), 'control': QubitSet([]), 'control_state': (), 'power': 1), Instruction('operator': Measure, 'target': QubitSet([Qubit(1)]), 'control': QubitSet([]), 'control_state': (), 'power': 1)])"
      ]
     },
     "execution_count": 53,
     "metadata": {},
     "output_type": "execute_result"
    }
   ],
   "source": [
    "from braket.circuits import Circuit\n",
    "\n",
    "circuit = Circuit()\n",
    "circuit.h(0)\n",
    "circuit.cnot(0, 1)\n",
    "circuit.measure([0,1])"
   ]
  },
  {
   "cell_type": "code",
   "execution_count": 55,
   "metadata": {},
   "outputs": [
    {
     "data": {
      "text/plain": [
       "<qiskit.circuit.instructionset.InstructionSet at 0x11145cc10>"
      ]
     },
     "execution_count": 55,
     "metadata": {},
     "output_type": "execute_result"
    }
   ],
   "source": [
    "from qiskit import QuantumCircuit\n",
    "\n",
    "circuit = QuantumCircuit(2, 2)\n",
    "\n",
    "circuit.h(0)\n",
    "circuit.cx(0, 1)\n",
    "circuit.measure([0,1], [0,1])"
   ]
  },
  {
   "cell_type": "code",
   "execution_count": 57,
   "metadata": {},
   "outputs": [],
   "source": [
    "from cirq import Circuit, LineQubit, ops\n",
    "\n",
    "q0, q1 = LineQubit.range(2)\n",
    "circuit = Circuit(ops.H(q0), ops.CNOT(q0, q1), ops.measure(q0, q1))"
   ]
  },
  {
   "cell_type": "code",
   "execution_count": 60,
   "metadata": {},
   "outputs": [],
   "source": [
    "import pennylane as qml\n",
    "from pennylane.tape import QuantumTape\n",
    "\n",
    "with QuantumTape() as tape:\n",
    "    qml.Hadamard(wires=0)\n",
    "    qml.CNOT(wires=[0, 1])\n",
    "    qml.sample(wires=[0, 1])"
   ]
  },
  {
   "cell_type": "code",
   "execution_count": 62,
   "metadata": {},
   "outputs": [],
   "source": [
    "from pyquil import Program\n",
    "from pyquil.gates import CNOT, H, MEASURE\n",
    "\n",
    "program = Program()\n",
    "\n",
    "ro = program.declare(\"ro\", \"BIT\", 2)\n",
    "program += H(0)\n",
    "program += CNOT(0, 1)\n",
    "\n",
    "program += MEASURE(0, ro[0])\n",
    "program += MEASURE(1, ro[1])"
   ]
  },
  {
   "cell_type": "code",
   "execution_count": 64,
   "metadata": {},
   "outputs": [
    {
     "name": "stdout",
     "output_type": "stream",
     "text": [
      "<tket::Circuit, qubits=2, gates=4>\n"
     ]
    }
   ],
   "source": [
    "from pytket.circuit import Circuit\n",
    "\n",
    "circuit = Circuit(2)\n",
    "circuit.H(0)\n",
    "circuit.CX(0, 1)\n",
    "circuit.measure_all()\n",
    "\n",
    "print(circuit)"
   ]
  },
  {
   "cell_type": "code",
   "execution_count": 51,
   "metadata": {},
   "outputs": [],
   "source": [
    "qasm = \"\"\"\n",
    "OPENQASM 3;\n",
    "include \"stdgates.inc\";\n",
    "qubit[2] q;\n",
    "bit[2] b;\n",
    "h q[0];\n",
    "cx q[0], q[1];\n",
    "b[0] = measure q[0];\n",
    "b[1] = measure q[1];\n",
    "\"\"\""
   ]
  },
  {
   "cell_type": "code",
   "execution_count": 67,
   "metadata": {},
   "outputs": [
    {
     "name": "stdout",
     "output_type": "stream",
     "text": [
      "H 0\n",
      "CX 0 1\n",
      "M 0 1\n"
     ]
    }
   ],
   "source": [
    "import stim\n",
    "\n",
    "circuit = stim.Circuit()\n",
    "circuit.append_operation(\"H\", [0])\n",
    "circuit.append_operation(\"CNOT\", [0, 1])\n",
    "circuit.append_operation(\"M\", [0, 1])\n",
    "\n",
    "print(circuit)"
   ]
  },
  {
   "cell_type": "code",
   "execution_count": null,
   "metadata": {},
   "outputs": [],
   "source": [
    "import cudaq\n",
    "\n",
    "@cudaq.kernel\n",
    "def bell_pair():\n",
    "    q = cudaq.qvector(2)\n",
    "    h(q[0])\n",
    "    cx(q[0], q[1])\n",
    "    mz(q)"
   ]
  },
  {
   "cell_type": "code",
   "execution_count": 69,
   "metadata": {},
   "outputs": [
    {
     "data": {
      "text/plain": [
       "<Module at 0x1114ccba0>"
      ]
     },
     "execution_count": 69,
     "metadata": {},
     "output_type": "execute_result"
    }
   ],
   "source": [
    "from pyqir import SimpleModule, BasicQisBuilder\n",
    "\n",
    "bell = SimpleModule(\"bell_pair\", num_qubits=2, num_results=2)\n",
    "qis = BasicQisBuilder(bell.builder)\n",
    "\n",
    "qis.h(bell.qubits[0])\n",
    "qis.cx(bell.qubits[0], bell.qubits[1])\n",
    "qis.mz(bell.qubits[0], bell.results[0])\n",
    "qis.mz(bell.qubits[1], bell.results[1])\n",
    "\n",
    "bell._module"
   ]
  },
  {
   "cell_type": "code",
   "execution_count": 72,
   "metadata": {},
   "outputs": [
    {
     "name": "stdout",
     "output_type": "stream",
     "text": [
      "// Generated by QIBO 0.2.15\n",
      "OPENQASM 2.0;\n",
      "include \"qelib1.inc\";\n",
      "qreg q[2];\n",
      "creg register0[2];\n",
      "h q[0];\n",
      "cx q[0],q[1];\n",
      "measure q[0] -> register0[0];\n",
      "measure q[1] -> register0[1];\n"
     ]
    }
   ],
   "source": [
    "from qibo import Circuit, gates\n",
    "\n",
    "# Create a Qibo circuit\n",
    "circuit = Circuit(2)\n",
    "circuit.add(gates.H(0))\n",
    "circuit.add(gates.CNOT(0, 1))\n",
    "circuit.add(gates.M(0, 1))\n",
    "\n",
    "# Export the circuit to OpenQASM 2.0\n",
    "qasm_code = circuit.to_qasm()\n",
    "print(qasm_code)"
   ]
  },
  {
   "cell_type": "code",
   "execution_count": null,
   "metadata": {},
   "outputs": [],
   "source": []
  }
 ],
 "metadata": {
  "kernelspec": {
   "display_name": "sdk311",
   "language": "python",
   "name": "python3"
  },
  "language_info": {
   "codemirror_mode": {
    "name": "ipython",
    "version": 3
   },
   "file_extension": ".py",
   "mimetype": "text/x-python",
   "name": "python",
   "nbconvert_exporter": "python",
   "pygments_lexer": "ipython3",
   "version": "3.11.9"
  }
 },
 "nbformat": 4,
 "nbformat_minor": 2
}
