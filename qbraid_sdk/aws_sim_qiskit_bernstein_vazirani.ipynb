{
 "cells": [
  {
   "cell_type": "code",
   "execution_count": 1,
   "id": "e02e4aa7-3ad7-41bd-a23b-5b37b70fdc34",
   "metadata": {
    "tags": []
   },
   "outputs": [],
   "source": [
    "# This notebook is derived from Qiskit and includes modifications by qBraid.\n",
    "#\n",
    "# (C) Copyright IBM 2020.\n",
    "# (C) Copyright qBraid 2025.\n",
    "#\n",
    "# This code is licensed under the Apache License, Version 2.0. You may\n",
    "# obtain a copy of this license in the LICENSE.txt file in the root directory\n",
    "# of this source tree or at http://www.apache.org/licenses/LICENSE-2.0.\n",
    "#\n",
    "# Any modifications or derivative works of this code must retain this\n",
    "# copyright notice, and modified files need to carry a notice indicating\n",
    "# that they have been altered from the originals."
   ]
  },
  {
   "cell_type": "markdown",
   "id": "853073e0-f09a-4db2-b950-78b8cd152225",
   "metadata": {},
   "source": [
    "# qBraid-SDK Qiskit on AWS Device Demo: Bernstein-Vazirani Algorithm"
   ]
  },
  {
   "cell_type": "code",
   "execution_count": 2,
   "id": "26c3e962-ce58-41c4-be95-c41340d8a057",
   "metadata": {
    "tags": []
   },
   "outputs": [
    {
     "data": {
      "text/plain": [
       "'0.9.9'"
      ]
     },
     "execution_count": 2,
     "metadata": {},
     "output_type": "execute_result"
    }
   ],
   "source": [
    "import qbraid\n",
    "\n",
    "qbraid.__version__"
   ]
  },
  {
   "cell_type": "markdown",
   "id": "9dc820e5-9ffc-445b-8107-0e70867e51e9",
   "metadata": {},
   "source": [
    "## Creating the Circuit"
   ]
  },
  {
   "cell_type": "markdown",
   "id": "a9c68b61-503a-4112-9d09-76b4b9f48558",
   "metadata": {},
   "source": [
    "The code for this circuit was taken from IBMs Bernstein-Vazirani algorithm tutorial. Check out their [tutorial](https://www.youtube.com/watch?v=sqJIpHYl7oo) for a more in depth explanation. Classically, it takes $n$ queries to decipher a secret string of length $n$ – the Bernstein-Vazirani algorithm allows us to develop an oracle in a quantum circuit that is able to guess the string with just one query!"
   ]
  },
  {
   "cell_type": "code",
   "execution_count": 3,
   "id": "45bd059d-461e-40bd-a873-d6ee8a2129b1",
   "metadata": {
    "tags": []
   },
   "outputs": [],
   "source": [
    "from qiskit import QuantumCircuit"
   ]
  },
  {
   "cell_type": "code",
   "execution_count": 4,
   "id": "64112ad2-770c-4142-b338-9f379c99b7e7",
   "metadata": {
    "tags": []
   },
   "outputs": [],
   "source": [
    "s = \"110000\"  # the number we hope to guess\n",
    "n = len(s)\n",
    "\n",
    "qiskit_circuit = QuantumCircuit(n + 1)\n",
    "\n",
    "qiskit_circuit.x(n)\n",
    "qiskit_circuit.barrier()\n",
    "qiskit_circuit.h(range(n + 1))\n",
    "qiskit_circuit.barrier()\n",
    "\n",
    "for ii, yesno in enumerate(s):\n",
    "    if yesno == \"1\":\n",
    "        qiskit_circuit.cx(ii, n)\n",
    "\n",
    "qiskit_circuit.barrier()\n",
    "qiskit_circuit.h(range(n + 1))\n",
    "qiskit_circuit.barrier()\n",
    "qiskit_circuit.measure_all()"
   ]
  },
  {
   "cell_type": "code",
   "execution_count": 5,
   "id": "ec22c1b0-c33a-400d-87f7-5079e300698d",
   "metadata": {
    "tags": []
   },
   "outputs": [
    {
     "data": {
      "text/html": [
       "<pre style=\"word-wrap: normal;white-space: pre;background: #fff0;line-height: 1.1;font-family: &quot;Courier New&quot;,Courier,monospace\">              ░ ┌───┐ ░            ░ ┌───┐ ░  ░ ┌─┐                  \n",
       "   q_0: ──────░─┤ H ├─░───■────────░─┤ H ├─░──░─┤M├──────────────────\n",
       "              ░ ├───┤ ░   │        ░ ├───┤ ░  ░ └╥┘┌─┐               \n",
       "   q_1: ──────░─┤ H ├─░───┼────■───░─┤ H ├─░──░──╫─┤M├───────────────\n",
       "              ░ ├───┤ ░   │    │   ░ ├───┤ ░  ░  ║ └╥┘┌─┐            \n",
       "   q_2: ──────░─┤ H ├─░───┼────┼───░─┤ H ├─░──░──╫──╫─┤M├────────────\n",
       "              ░ ├───┤ ░   │    │   ░ ├───┤ ░  ░  ║  ║ └╥┘┌─┐         \n",
       "   q_3: ──────░─┤ H ├─░───┼────┼───░─┤ H ├─░──░──╫──╫──╫─┤M├─────────\n",
       "              ░ ├───┤ ░   │    │   ░ ├───┤ ░  ░  ║  ║  ║ └╥┘┌─┐      \n",
       "   q_4: ──────░─┤ H ├─░───┼────┼───░─┤ H ├─░──░──╫──╫──╫──╫─┤M├──────\n",
       "              ░ ├───┤ ░   │    │   ░ ├───┤ ░  ░  ║  ║  ║  ║ └╥┘┌─┐   \n",
       "   q_5: ──────░─┤ H ├─░───┼────┼───░─┤ H ├─░──░──╫──╫──╫──╫──╫─┤M├───\n",
       "        ┌───┐ ░ ├───┤ ░ ┌─┴─┐┌─┴─┐ ░ ├───┤ ░  ░  ║  ║  ║  ║  ║ └╥┘┌─┐\n",
       "   q_6: ┤ X ├─░─┤ H ├─░─┤ X ├┤ X ├─░─┤ H ├─░──░──╫──╫──╫──╫──╫──╫─┤M├\n",
       "        └───┘ ░ └───┘ ░ └───┘└───┘ ░ └───┘ ░  ░  ║  ║  ║  ║  ║  ║ └╥┘\n",
       "meas: 7/═════════════════════════════════════════╩══╩══╩══╩══╩══╩══╩═\n",
       "                                                 0  1  2  3  4  5  6 </pre>"
      ],
      "text/plain": [
       "              ░ ┌───┐ ░            ░ ┌───┐ ░  ░ ┌─┐                  \n",
       "   q_0: ──────░─┤ H ├─░───■────────░─┤ H ├─░──░─┤M├──────────────────\n",
       "              ░ ├───┤ ░   │        ░ ├───┤ ░  ░ └╥┘┌─┐               \n",
       "   q_1: ──────░─┤ H ├─░───┼────■───░─┤ H ├─░──░──╫─┤M├───────────────\n",
       "              ░ ├───┤ ░   │    │   ░ ├───┤ ░  ░  ║ └╥┘┌─┐            \n",
       "   q_2: ──────░─┤ H ├─░───┼────┼───░─┤ H ├─░──░──╫──╫─┤M├────────────\n",
       "              ░ ├───┤ ░   │    │   ░ ├───┤ ░  ░  ║  ║ └╥┘┌─┐         \n",
       "   q_3: ──────░─┤ H ├─░───┼────┼───░─┤ H ├─░──░──╫──╫──╫─┤M├─────────\n",
       "              ░ ├───┤ ░   │    │   ░ ├───┤ ░  ░  ║  ║  ║ └╥┘┌─┐      \n",
       "   q_4: ──────░─┤ H ├─░───┼────┼───░─┤ H ├─░──░──╫──╫──╫──╫─┤M├──────\n",
       "              ░ ├───┤ ░   │    │   ░ ├───┤ ░  ░  ║  ║  ║  ║ └╥┘┌─┐   \n",
       "   q_5: ──────░─┤ H ├─░───┼────┼───░─┤ H ├─░──░──╫──╫──╫──╫──╫─┤M├───\n",
       "        ┌───┐ ░ ├───┤ ░ ┌─┴─┐┌─┴─┐ ░ ├───┤ ░  ░  ║  ║  ║  ║  ║ └╥┘┌─┐\n",
       "   q_6: ┤ X ├─░─┤ H ├─░─┤ X ├┤ X ├─░─┤ H ├─░──░──╫──╫──╫──╫──╫──╫─┤M├\n",
       "        └───┘ ░ └───┘ ░ └───┘└───┘ ░ └───┘ ░  ░  ║  ║  ║  ║  ║  ║ └╥┘\n",
       "meas: 7/═════════════════════════════════════════╩══╩══╩══╩══╩══╩══╩═\n",
       "                                                 0  1  2  3  4  5  6 "
      ]
     },
     "execution_count": 5,
     "metadata": {},
     "output_type": "execute_result"
    }
   ],
   "source": [
    "from qbraid.visualization import circuit_drawer\n",
    "\n",
    "circuit_drawer(qiskit_circuit)  # Visualizing the circuit"
   ]
  },
  {
   "cell_type": "markdown",
   "id": "17d7778c-e6d3-49f2-9976-5b6915a94c1b",
   "metadata": {},
   "source": [
    "## Running on an AWS Device via qBraid"
   ]
  },
  {
   "cell_type": "markdown",
   "id": "6f94aac4-8aed-43e0-b3f3-ea7006139b1f",
   "metadata": {},
   "source": [
    "Let's check which devices are online, and also find their device IDs:"
   ]
  },
  {
   "cell_type": "code",
   "execution_count": 6,
   "id": "43adf303-4bd1-45cb-bac8-010cbd701e72",
   "metadata": {
    "tags": []
   },
   "outputs": [],
   "source": [
    "from qbraid.runtime import QbraidProvider"
   ]
  },
  {
   "cell_type": "code",
   "execution_count": 7,
   "id": "793dc61d-9a59-46ba-b553-8202892e6e7c",
   "metadata": {
    "tags": []
   },
   "outputs": [
    {
     "data": {
      "text/plain": [
       "[<qbraid.runtime.native.device.QbraidDevice('aws_sv1')>,\n",
       " <qbraid.runtime.native.device.QbraidDevice('aws_tn1')>,\n",
       " <qbraid.runtime.native.device.QbraidDevice('quera_aquila')>,\n",
       " <qbraid.runtime.native.device.QbraidDevice('aws_dm1')>,\n",
       " <qbraid.runtime.native.device.QbraidDevice('qbraid_qir_simulator')>,\n",
       " <qbraid.runtime.native.device.QbraidDevice('iqm_garnet')>,\n",
       " <qbraid.runtime.native.device.QbraidDevice('quera_qasm_simulator')>,\n",
       " <qbraid.runtime.native.device.QbraidDevice('ionq_simulator')>,\n",
       " <qbraid.runtime.native.device.QbraidDevice('nec_vector_annealer')>,\n",
       " <qbraid.runtime.native.device.QbraidDevice('ionq_harmony')>,\n",
       " <qbraid.runtime.native.device.QbraidDevice('ionq_aria_1')>,\n",
       " <qbraid.runtime.native.device.QbraidDevice('ionq_aria_2')>,\n",
       " <qbraid.runtime.native.device.QbraidDevice('ionq_forte_1')>,\n",
       " <qbraid.runtime.native.device.QbraidDevice('rigetti_ankaa_3')>,\n",
       " <qbraid.runtime.native.device.QbraidDevice('quantinuum.sim.h1-1e')>,\n",
       " <qbraid.runtime.native.device.QbraidDevice('pasqal.sim.emu-tn')>,\n",
       " <qbraid.runtime.native.device.QbraidDevice('quantinuum.qpu.h1-1')>,\n",
       " <qbraid.runtime.native.device.QbraidDevice('quantinuum.sim.h1-1sc')>,\n",
       " <qbraid.runtime.native.device.QbraidDevice('rigetti.sim.qvm')>,\n",
       " <qbraid.runtime.native.device.QbraidDevice('rigetti.qpu.ankaa-3')>,\n",
       " <qbraid.runtime.native.device.QbraidDevice('pasqal.qpu.fresnel')>,\n",
       " <qbraid.runtime.native.device.QbraidDevice('ionq.simulator')>,\n",
       " <qbraid.runtime.native.device.QbraidDevice('equal1_simulator')>,\n",
       " <qbraid.runtime.native.device.QbraidDevice('iqm_emerald')>]"
      ]
     },
     "execution_count": 7,
     "metadata": {},
     "output_type": "execute_result"
    }
   ],
   "source": [
    "provider = QbraidProvider()\n",
    "provider.get_devices()"
   ]
  },
  {
   "cell_type": "markdown",
   "id": "7c96b901-13db-4908-86ed-d3a078e6c4bf",
   "metadata": {},
   "source": [
    "In this tutorial we'll use Amazon's SV1 simulator, since we see that it's online. Now we can use the `QbraidProvider` run a job on an Amazon device. The device wrapper adds a layer of abstraction, allowing us to run a qiskit circuit on an AWS quantum computer. Note that there's no need for any sort of circuit wrapper here – we can plug the qiskit circuit directly into the wrapped device!"
   ]
  },
  {
   "cell_type": "code",
   "execution_count": 8,
   "id": "d0263cb1-f67c-4894-8723-1cf6f0813f7e",
   "metadata": {
    "tags": []
   },
   "outputs": [
    {
     "data": {
      "text/plain": [
       "<qbraid.runtime.native.device.QbraidDevice('aws_sv1')>"
      ]
     },
     "execution_count": 8,
     "metadata": {},
     "output_type": "execute_result"
    }
   ],
   "source": [
    "aws_device_id = \"aws_sv1\"\n",
    "device = provider.get_device(aws_device_id)\n",
    "device"
   ]
  },
  {
   "cell_type": "code",
   "execution_count": 9,
   "id": "925f0bbd-ccb2-4806-bb29-299365ee8fa3",
   "metadata": {
    "tags": []
   },
   "outputs": [
    {
     "data": {
      "text/plain": [
       "<INITIALIZING: 'job is being initialized'>"
      ]
     },
     "execution_count": 9,
     "metadata": {},
     "output_type": "execute_result"
    }
   ],
   "source": [
    "braket_job = device.run(qiskit_circuit, shots=100)\n",
    "braket_job.status()"
   ]
  },
  {
   "cell_type": "code",
   "execution_count": 10,
   "id": "04629aba-806f-43d1-951b-d673b7a3e6e6",
   "metadata": {
    "tags": []
   },
   "outputs": [
    {
     "name": "stdout",
     "output_type": "stream",
     "text": [
      "{'1100001': 100}\n"
     ]
    }
   ],
   "source": [
    "result = braket_job.result()\n",
    "counts = result.data.get_counts()\n",
    "print(counts)"
   ]
  },
  {
   "cell_type": "code",
   "execution_count": 11,
   "id": "dbf9ec3d",
   "metadata": {},
   "outputs": [
    {
     "data": {
      "text/plain": [
       "Result(\n",
       "  device_id=aws_sv1,\n",
       "  job_id=aws_sv1-ryanhill-qjob-iehwb0fqsndorwt8i72x,\n",
       "  success=True,\n",
       "  data=GateModelResultData(measurement_counts={'1100001': 100}, measurements=array(shape=(0,), dtype=object), measurement_probabilities=None),\n",
       "  status='COMPLETED',\n",
       "  statusText='job has successfully run',\n",
       "  shots=100,\n",
       "  experimentType=GATE_MODEL,\n",
       "  timeStamps={createdAt: 2025-09-03T15:56:40Z, endedAt: 2025-09-03T15:56:41Z, executionDuration: 3},\n",
       "  tags={},\n",
       "  cost=None,\n",
       "  preflight=False,\n",
       "  schemaHeader={name: 'qbraid.runtime.schemas.job', version: 1.0},\n",
       "  metadata={openQasm: '...', circuitNumQubits: 7, circuitDepth: 6}\n",
       ")"
      ]
     },
     "execution_count": 11,
     "metadata": {},
     "output_type": "execute_result"
    }
   ],
   "source": [
    "result"
   ]
  },
  {
   "cell_type": "markdown",
   "id": "fca150ae",
   "metadata": {},
   "source": [
    "#### NOTE \n",
    "The last bit of the result is just the **output bit**. The number is composed of the first 6 bits i.e. $\\mathbf{110000}$"
   ]
  },
  {
   "cell_type": "code",
   "execution_count": 12,
   "id": "aaf2c526-33ce-4eae-9602-09148d11026d",
   "metadata": {
    "tags": []
   },
   "outputs": [],
   "source": [
    "from qbraid.visualization import plot_histogram"
   ]
  },
  {
   "cell_type": "code",
   "execution_count": 13,
   "id": "0e571804-2fbe-464e-994d-8911d19c40e0",
   "metadata": {
    "tags": []
   },
   "outputs": [
    {
     "data": {
      "image/png": "[encoded data removed]",
      "text/plain": [
       "<Figure size 640x480 with 1 Axes>"
      ]
     },
     "metadata": {},
     "output_type": "display_data"
    }
   ],
   "source": [
    "plot_histogram(counts)"
   ]
  },
  {
   "cell_type": "markdown",
   "id": "8b304a4c-1e71-4438-bd46-12be95c39ae1",
   "metadata": {},
   "source": [
    "We have guessed the number correctly! Note the bar graph where only one number was guessed in all 100 shots"
   ]
  },
  {
   "cell_type": "code",
   "execution_count": null,
   "id": "abf515ba-cb23-42f1-9251-65ed840cb072",
   "metadata": {},
   "outputs": [],
   "source": []
  }
 ],
 "metadata": {
  "kernelspec": {
   "display_name": "Python 3 [qBraid]",
   "language": "python",
   "name": "python3_qbraid_xjvvwj"
  },
  "language_info": {
   "codemirror_mode": {
    "name": "ipython",
    "version": 3
   },
   "file_extension": ".py",
   "mimetype": "text/x-python",
   "name": "python",
   "nbconvert_exporter": "python",
   "pygments_lexer": "ipython3",
   "version": "3.11.9"
  }
 },
 "nbformat": 4,
 "nbformat_minor": 5
}
