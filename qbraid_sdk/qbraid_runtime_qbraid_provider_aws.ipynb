{
 "cells": [
  {
   "cell_type": "markdown",
   "id": "67d5df08-d5af-4df2-9e91-5221ff2d89fe",
   "metadata": {},
   "source": [
    "# Using the `qbraid-SDK`\n",
    "qBraid SDK is our flagship Python toolkit to run platform agnostic quantum programs. We have built the `qbraid.runtime` module to interface with multiple quantum software packages and their respective vendors. "
   ]
  },
  {
   "cell_type": "code",
   "execution_count": 1,
   "id": "ce5d8ee8-0fea-4987-b343-4cb7387304e5",
   "metadata": {},
   "outputs": [
    {
     "data": {
      "text/plain": [
       "'0.9.7'"
      ]
     },
     "execution_count": 1,
     "metadata": {},
     "output_type": "execute_result"
    }
   ],
   "source": [
    "import qbraid\n",
    "\n",
    "qbraid.__version__"
   ]
  },
  {
   "cell_type": "markdown",
   "id": "62a7acfc-df3f-46c1-8c5b-3859b821ec66",
   "metadata": {
    "jp-MarkdownHeadingCollapsed": true
   },
   "source": [
    "## Using the `QbraidProvider` and Devices\n",
    "- We use the provider abstraction to associate together all the devices available via qBraid\n",
    "- Each provider has a list of supported devices which can be retrieved via the `.get_devices()` method"
   ]
  },
  {
   "cell_type": "code",
   "execution_count": 2,
   "id": "feda37db-87e5-49cd-8bda-beebab1e3655",
   "metadata": {},
   "outputs": [],
   "source": [
    "from qbraid.runtime import QbraidProvider\n",
    "\n",
    "provider = QbraidProvider()"
   ]
  },
  {
   "cell_type": "code",
   "execution_count": 3,
   "id": "f94123d8-d48c-46da-b1cc-abe804963089",
   "metadata": {},
   "outputs": [
    {
     "data": {
      "text/plain": [
       "[<qbraid.runtime.native.device.QbraidDevice('aws_sv1')>,\n",
       " <qbraid.runtime.native.device.QbraidDevice('aws_tn1')>,\n",
       " <qbraid.runtime.native.device.QbraidDevice('quera_aquila')>,\n",
       " <qbraid.runtime.native.device.QbraidDevice('aws_dm1')>,\n",
       " <qbraid.runtime.native.device.QbraidDevice('qbraid_qir_simulator')>,\n",
       " <qbraid.runtime.native.device.QbraidDevice('iqm_garnet')>,\n",
       " <qbraid.runtime.native.device.QbraidDevice('quera_qasm_simulator')>,\n",
       " <qbraid.runtime.native.device.QbraidDevice('ionq_simulator')>,\n",
       " <qbraid.runtime.native.device.QbraidDevice('nec_vector_annealer')>,\n",
       " <qbraid.runtime.native.device.QbraidDevice('ionq_aria_1')>,\n",
       " <qbraid.runtime.native.device.QbraidDevice('rigetti_ankaa_3')>]"
      ]
     },
     "execution_count": 3,
     "metadata": {},
     "output_type": "execute_result"
    }
   ],
   "source": [
    "provider.get_devices()"
   ]
  },
  {
   "cell_type": "markdown",
   "id": "1d91a162-dda2-4e2d-a0d5-7604dff225d2",
   "metadata": {},
   "source": [
    "### Choose AWS Statevector Simulator"
   ]
  },
  {
   "cell_type": "code",
   "execution_count": 4,
   "id": "c2e6d66d-aa7d-4e91-a638-b41e65fd347c",
   "metadata": {},
   "outputs": [
    {
     "data": {
      "text/plain": [
       "<qbraid.runtime.native.device.QbraidDevice('aws_sv1')>"
      ]
     },
     "execution_count": 4,
     "metadata": {},
     "output_type": "execute_result"
    }
   ],
   "source": [
    "aws_sim = provider.get_device(\"aws_sv1\")\n",
    "aws_sim"
   ]
  },
  {
   "cell_type": "code",
   "execution_count": 5,
   "id": "6d638c94-baf6-4e31-a98a-b18414a13b87",
   "metadata": {},
   "outputs": [
    {
     "data": {
      "text/plain": [
       "<ProgramSpec('braket.circuits.circuit.Circuit', 'braket')>"
      ]
     },
     "execution_count": 5,
     "metadata": {},
     "output_type": "execute_result"
    }
   ],
   "source": [
    "aws_sim._target_spec"
   ]
  },
  {
   "cell_type": "markdown",
   "id": "072e0362-c3d9-4d9b-8741-c37095b593d5",
   "metadata": {
    "jp-MarkdownHeadingCollapsed": true
   },
   "source": [
    "## Define the quantum circuit"
   ]
  },
  {
   "cell_type": "markdown",
   "id": "2b047d82-f125-4e4b-992f-42aa94ca94a1",
   "metadata": {},
   "source": [
    "We will build the following circuit representing [the **Bell** state](https://en.wikipedia.org/wiki/Bell_state) - \n",
    "\n",
    "$$ | \\Psi \\rangle = \\frac{|00\\rangle + |11\\rangle}{\\sqrt{2}} $$"
   ]
  },
  {
   "cell_type": "markdown",
   "id": "53ae69c2-e3b0-4efb-904c-6df0e95a9f7f",
   "metadata": {
    "jp-MarkdownHeadingCollapsed": true
   },
   "source": [
    "##  Submit Cirq circuit to AWS simulator"
   ]
  },
  {
   "cell_type": "markdown",
   "id": "d82fbcc4-3e1e-4835-b0d1-1d4baf782c9f",
   "metadata": {},
   "source": [
    "### Build a Cirq circuit\n",
    "Cirq is Google's quantum computing library"
   ]
  },
  {
   "cell_type": "code",
   "execution_count": 7,
   "id": "9defb74e-af9e-4960-9bdd-4e7a7773fb60",
   "metadata": {},
   "outputs": [],
   "source": [
    "import cirq\n",
    "\n",
    "# Create 2 qubits\n",
    "qubits = [cirq.LineQubit(i) for i in range(2)]\n",
    "\n",
    "# Define the circuit\n",
    "bell_circuit = cirq.Circuit()\n",
    "\n",
    "# Apply a Hadamard gate to the first qubit\n",
    "bell_circuit.append(cirq.H(qubits[0]))\n",
    "\n",
    "# Apply CNOT gates to entangle the qubits\n",
    "bell_circuit.append(cirq.CNOT(qubits[0], qubits[1]))\n",
    "\n",
    "# Measure all qubits\n",
    "bell_circuit.append(cirq.measure(*qubits, key=\"result\"))"
   ]
  },
  {
   "cell_type": "code",
   "execution_count": 8,
   "id": "2618a784-7ce0-4b6f-868b-9c4e262e37d6",
   "metadata": {},
   "outputs": [
    {
     "name": "stdout",
     "output_type": "stream",
     "text": [
      "0: ───H───@───M('result')───\n",
      "          │   │\n",
      "1: ───────X───M─────────────\n"
     ]
    }
   ],
   "source": [
    "print(bell_circuit)"
   ]
  },
  {
   "cell_type": "markdown",
   "id": "93978e58-3cfc-44e7-b682-0f24b7ac6b0c",
   "metadata": {},
   "source": [
    "### Execute cirq on AWS simulator"
   ]
  },
  {
   "cell_type": "code",
   "execution_count": 9,
   "id": "1c12cb17-e3d7-47c0-b2f2-d5bda6dfd8f6",
   "metadata": {},
   "outputs": [
    {
     "name": "stdout",
     "output_type": "stream",
     "text": [
      "{'11': 522, '00': 478}\n"
     ]
    }
   ],
   "source": [
    "job = aws_sim.run(bell_circuit, shots=1000)\n",
    "print(job.result().data.measurement_counts)"
   ]
  },
  {
   "cell_type": "markdown",
   "id": "e61bdec5-849c-47fa-a5ff-cc47f57505b3",
   "metadata": {
    "jp-MarkdownHeadingCollapsed": true
   },
   "source": [
    "##  Submit qiskit circuit to AWS simulator "
   ]
  },
  {
   "cell_type": "markdown",
   "id": "3f5f0f53-ff5b-492e-806e-5b8fc9325166",
   "metadata": {},
   "source": [
    "### Build a Qiskit circuit\n",
    "Qiskit is IBM's quantum programming library"
   ]
  },
  {
   "cell_type": "code",
   "execution_count": 10,
   "id": "9350ee7f-8de0-44f2-8cec-d60b87f23a23",
   "metadata": {},
   "outputs": [],
   "source": [
    "from qiskit import QuantumCircuit\n",
    "\n",
    "# Create a 2-qubit quantum circuit with 2 classical bits for measurement\n",
    "qiskit_qc = QuantumCircuit(2)\n",
    "\n",
    "qiskit_qc.h(0)\n",
    "qiskit_qc.cx(0, 1)\n",
    "\n",
    "qiskit_qc.measure_all()"
   ]
  },
  {
   "cell_type": "code",
   "execution_count": 11,
   "id": "cbdedae7-2ce9-4a0a-bc36-5c44bb2d1b81",
   "metadata": {},
   "outputs": [
    {
     "name": "stdout",
     "output_type": "stream",
     "text": [
      "        ┌───┐      ░ ┌─┐   \n",
      "   q_0: ┤ H ├──■───░─┤M├───\n",
      "        └───┘┌─┴─┐ ░ └╥┘┌─┐\n",
      "   q_1: ─────┤ X ├─░──╫─┤M├\n",
      "             └───┘ ░  ║ └╥┘\n",
      "meas: 2/══════════════╩══╩═\n",
      "                      0  1 \n"
     ]
    }
   ],
   "source": [
    "print(qiskit_qc)"
   ]
  },
  {
   "cell_type": "markdown",
   "id": "3f110c9b-57c6-4305-833c-39e5138cc046",
   "metadata": {},
   "source": [
    "### Execute qiskit on AWS simulator"
   ]
  },
  {
   "cell_type": "code",
   "execution_count": 12,
   "id": "fab11f88-1da2-42d8-9321-8e75e8705200",
   "metadata": {},
   "outputs": [
    {
     "name": "stdout",
     "output_type": "stream",
     "text": [
      "{'11': 478, '00': 522}\n"
     ]
    }
   ],
   "source": [
    "job = aws_sim.run(qiskit_qc, shots=1000)\n",
    "print(job.result().data.measurement_counts)"
   ]
  },
  {
   "cell_type": "markdown",
   "id": "164d37a2-e953-4713-b4f7-f388ac4a7a6a",
   "metadata": {
    "jp-MarkdownHeadingCollapsed": true
   },
   "source": [
    "## Running on real hardware : Rigetti Ankaa - 3"
   ]
  },
  {
   "cell_type": "code",
   "execution_count": 13,
   "id": "ce6c0005-095b-4865-888a-bac60cd3f545",
   "metadata": {},
   "outputs": [
    {
     "data": {
      "text/plain": [
       "<qbraid.runtime.native.device.QbraidDevice('rigetti_ankaa_3')>"
      ]
     },
     "execution_count": 13,
     "metadata": {},
     "output_type": "execute_result"
    }
   ],
   "source": [
    "ankaa_device_id = \"rigetti_ankaa_3\"\n",
    "ankaa_device = provider.get_device(ankaa_device_id)\n",
    "ankaa_device"
   ]
  },
  {
   "cell_type": "code",
   "execution_count": 23,
   "id": "64e6b38b-ad5a-448f-bf7f-eea060ee7501",
   "metadata": {},
   "outputs": [
    {
     "data": {
      "text/plain": [
       "{'device_id': 'rigetti_ankaa_3',\n",
       " 'simulator': False,\n",
       " 'num_qubits': 82,\n",
       " 'provider_name': 'Rigetti',\n",
       " 'basis_gates': None,\n",
       " 'name': 'Ankaa-3 (AWS)',\n",
       " 'pricing': {'perTask': Credits('30.0'),\n",
       "  'perShot': Credits('0.0900'),\n",
       "  'perMinute': Credits('0')},\n",
       " 'queue_depth': 0,\n",
       " 'status': 'ONLINE',\n",
       " 'paradigm': 'gate_model',\n",
       " 'runtime_config': {'target_program_type': 'braket',\n",
       "  'conversion_scheme': {'conversion_graph': <qbraid.transpiler.graph.ConversionGraph at 0x7c72d630e8f0>,\n",
       "   'max_path_attempts': 3,\n",
       "   'max_path_depth': None},\n",
       "  'options': {'transpile': True,\n",
       "   'transform': True,\n",
       "   'validate': 2,\n",
       "   'prepare': True}}}"
      ]
     },
     "execution_count": 23,
     "metadata": {},
     "output_type": "execute_result"
    }
   ],
   "source": [
    "ankaa_device.metadata()"
   ]
  },
  {
   "cell_type": "markdown",
   "id": "c675cf1d-7a4c-4bba-9569-cc4533aeb64f",
   "metadata": {},
   "source": [
    "We will again utilise the **Qiskit circuit** that we developed in the above block -"
   ]
  },
  {
   "cell_type": "code",
   "execution_count": 14,
   "id": "12ad3f43-9acb-4098-ab5f-d8d57c8aba5d",
   "metadata": {},
   "outputs": [
    {
     "name": "stdout",
     "output_type": "stream",
     "text": [
      "<QbraidJob(id:'rigetti_ankaa_3-harshit-qjob-723iocdix04zo79cb1oe')>\n"
     ]
    }
   ],
   "source": [
    "num_shots = 50  # Review device pricing to calculate the cost of the experiment. Do not increase to a very high value.\n",
    "job = ankaa_device.run(qiskit_qc, shots=num_shots)\n",
    "print(job)"
   ]
  },
  {
   "cell_type": "code",
   "execution_count": 15,
   "id": "713040ae-4d63-449e-ab7d-d78dd3ba86ca",
   "metadata": {},
   "outputs": [
    {
     "data": {
      "text/plain": [
       "<INITIALIZING: 'job is being initialized'>"
      ]
     },
     "execution_count": 15,
     "metadata": {},
     "output_type": "execute_result"
    }
   ],
   "source": [
    "job.status()"
   ]
  },
  {
   "cell_type": "code",
   "execution_count": 16,
   "id": "f2df0f5a-1787-4ca2-892e-1f69a3fd34e1",
   "metadata": {},
   "outputs": [
    {
     "name": "stdout",
     "output_type": "stream",
     "text": [
      "Final result:  Result(\n",
      "  device_id=rigetti_ankaa_3,\n",
      "  job_id=rigetti_ankaa_3-harshit-qjob-723iocdix04zo79cb1oe,\n",
      "  success=True,\n",
      "  data=GateModelResultData(measurement_counts={'11': 18, '00': 31, '01': 1}, measurements=array(shape=(0,), dtype=object)),\n",
      "  status='COMPLETED',\n",
      "  statusText='job has successfully run',\n",
      "  shots=50,\n",
      "  experimentType=GATE_MODEL,\n",
      "  queuePosition=None,\n",
      "  timeStamps={createdAt: 2025-07-07T06:06:46Z, endedAt: 2025-07-07T06:06:48Z, executionDuration: None},\n",
      "  tags={},\n",
      "  cost=Credits('34.5'),\n",
      "  preflight=False,\n",
      "  schemaHeader={name: 'qbraid.runtime.schemas.job', version: 1.0},\n",
      "  metadata={openQasm: '...', circuitNumQubits: 2, circuitDepth: 3}\n",
      ")\n"
     ]
    }
   ],
   "source": [
    "print(\"Final result: \", job.result())"
   ]
  },
  {
   "cell_type": "code",
   "execution_count": 19,
   "id": "46ee0862-bb16-4144-91a5-5b8fe4ba24fc",
   "metadata": {},
   "outputs": [
    {
     "name": "stdout",
     "output_type": "stream",
     "text": [
      "Final counts :  {'11': 18, '00': 31, '01': 1}\n"
     ]
    }
   ],
   "source": [
    "print(\"Final counts : \", job.result().data.measurement_counts)"
   ]
  },
  {
   "cell_type": "markdown",
   "id": "e83cb9bd-f505-4802-ae43-756d68455a79",
   "metadata": {},
   "source": [
    "- We can clearly see that the majority counts are from the $|00\\rangle$ and the $|11\\rangle$ state\n",
    "- Since this is a **real quantum device**, we are bound to get some **noisy results**. This is highlighted from the fact that \n",
    "we get some shots from other possible states i.e. $|01\\rangle$ and $|10\\rangle$ "
   ]
  },
  {
   "cell_type": "code",
   "execution_count": null,
   "id": "eea5c395-9e2e-47c7-8bac-42bca7744c96",
   "metadata": {},
   "outputs": [],
   "source": []
  }
 ],
 "metadata": {
  "kernelspec": {
   "display_name": "base",
   "language": "python",
   "name": "python3"
  },
  "language_info": {
   "codemirror_mode": {
    "name": "ipython",
    "version": 3
   },
   "file_extension": ".py",
   "mimetype": "text/x-python",
   "name": "python",
   "nbconvert_exporter": "python",
   "pygments_lexer": "ipython3",
   "version": "3.12.9"
  }
 },
 "nbformat": 4,
 "nbformat_minor": 5
}
